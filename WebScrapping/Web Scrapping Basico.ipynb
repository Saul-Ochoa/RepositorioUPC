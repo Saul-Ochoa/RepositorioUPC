{
 "cells": [
  {
   "cell_type": "markdown",
   "metadata": {},
   "source": [
    "## **Web Scrapping**"
   ]
  },
  {
   "cell_type": "code",
   "execution_count": 22,
   "metadata": {},
   "outputs": [],
   "source": [
    "import re\n",
    "import pandas as pd\n",
    "import numpy as np\n",
    "import seaborn as sns\n",
    "import time\n",
    "import matplotlib.pyplot as plt\n",
    "import requests\n",
    "from bs4 import BeautifulSoup\n",
    "import warnings\n",
    "warnings.filterwarnings('ignore')"
   ]
  },
  {
   "cell_type": "code",
   "execution_count": 23,
   "metadata": {},
   "outputs": [
    {
     "name": "stdout",
     "output_type": "stream",
     "text": [
      "                                        Nombre   Precio\n",
      "0                       XTech XTK092E - Ingles   ₡3,000\n",
      "1      Redragon P037 Meteor L gaming wrist pad   ₡3,000\n",
      "2     Teclado Argom USB - Ingles - ARG-KB-7424   ₡3,500\n",
      "3                     Argom - Teclado numérico   ₡3,500\n",
      "4                              Argom - Teclado   ₡3,900\n",
      "..                                         ...      ...\n",
      "715        Xtech Edición Iron Man - XTK-M401IM  ₡15,000\n",
      "716    Redragon Dragonborn K630 Blanco RGB-Red  ₡15,000\n",
      "717   Redragon Dragonborn K630 Negro RGB Brown  ₡15,000\n",
      "718  Redragon Dragonborn K630 Blanco RGB-Brown  ₡15,000\n",
      "719    Redragon Dragonborn K630 Negro RGB -RED  ₡15,000\n",
      "\n",
      "[720 rows x 2 columns]\n"
     ]
    }
   ],
   "source": [
    "# URL base\n",
    "url_base = 'https://extremetechcr.com/tienda/30-teclados#/page-'\n",
    "\n",
    "# Listas para almacenar los datos\n",
    "name_articulo = []\n",
    "precio = []\n",
    "\n",
    "# Iterar sobre las páginas\n",
    "for i in range(1, 31):\n",
    "    url = url_base + str(i)\n",
    "    html_text = requests.get(url).text\n",
    "    soup = BeautifulSoup(html_text, 'lxml')\n",
    "    product_list = soup.find_all('div', class_='product-container product-block')\n",
    "\n",
    "    # Iterar sobre los productos\n",
    "    for product in product_list:\n",
    "        product_name = product.find('a', class_='product-name').text.strip()\n",
    "        product_price = product.find('span', class_='price product-price').text.replace(' ', '').strip()\n",
    "\n",
    "        # Agregar a las listas\n",
    "        name_articulo.append(product_name)\n",
    "        precio.append(product_price)\n",
    "\n",
    "# Crear DataFrame con pandas\n",
    "df = pd.DataFrame({\n",
    "    'Nombre': name_articulo,\n",
    "    'Precio': precio\n",
    "})\n",
    "\n",
    "print(df)"
   ]
  },
  {
   "cell_type": "code",
   "execution_count": 24,
   "metadata": {},
   "outputs": [
    {
     "name": "stdout",
     "output_type": "stream",
     "text": [
      "Nombre    0\n",
      "Precio    0\n",
      "dtype: int64\n",
      "(720, 2)\n"
     ]
    }
   ],
   "source": [
    "#########################\n",
    "print(df.isnull().sum())\n",
    "########################\n",
    "print(df.shape)"
   ]
  },
  {
   "cell_type": "code",
   "execution_count": 25,
   "metadata": {},
   "outputs": [
    {
     "name": "stdout",
     "output_type": "stream",
     "text": [
      "<class 'pandas.core.frame.DataFrame'>\n",
      "RangeIndex: 720 entries, 0 to 719\n",
      "Data columns (total 2 columns):\n",
      " #   Column  Non-Null Count  Dtype \n",
      "---  ------  --------------  ----- \n",
      " 0   Nombre  720 non-null    object\n",
      " 1   Precio  720 non-null    int32 \n",
      "dtypes: int32(1), object(1)\n",
      "memory usage: 8.6+ KB\n"
     ]
    }
   ],
   "source": [
    "df['Precio'] = df['Precio'].str.replace(\"₡\", \"\", case=False, regex=False)\n",
    "df['Precio'] = df['Precio'].str.replace(',','').astype(int)\n",
    "df.info()"
   ]
  },
  {
   "cell_type": "code",
   "execution_count": 26,
   "metadata": {},
   "outputs": [
    {
     "data": {
      "text/html": [
       "<div>\n",
       "<style scoped>\n",
       "    .dataframe tbody tr th:only-of-type {\n",
       "        vertical-align: middle;\n",
       "    }\n",
       "\n",
       "    .dataframe tbody tr th {\n",
       "        vertical-align: top;\n",
       "    }\n",
       "\n",
       "    .dataframe thead th {\n",
       "        text-align: right;\n",
       "    }\n",
       "</style>\n",
       "<table border=\"1\" class=\"dataframe\">\n",
       "  <thead>\n",
       "    <tr style=\"text-align: right;\">\n",
       "      <th></th>\n",
       "      <th>Nombre</th>\n",
       "      <th>Precio</th>\n",
       "    </tr>\n",
       "  </thead>\n",
       "  <tbody>\n",
       "    <tr>\n",
       "      <th>0</th>\n",
       "      <td>XTech XTK092E - Ingles</td>\n",
       "      <td>3000</td>\n",
       "    </tr>\n",
       "    <tr>\n",
       "      <th>1</th>\n",
       "      <td>Redragon P037 Meteor L gaming wrist pad</td>\n",
       "      <td>3000</td>\n",
       "    </tr>\n",
       "    <tr>\n",
       "      <th>2</th>\n",
       "      <td>Teclado Argom USB - Ingles - ARG-KB-7424</td>\n",
       "      <td>3500</td>\n",
       "    </tr>\n",
       "    <tr>\n",
       "      <th>3</th>\n",
       "      <td>Argom - Teclado numérico</td>\n",
       "      <td>3500</td>\n",
       "    </tr>\n",
       "    <tr>\n",
       "      <th>4</th>\n",
       "      <td>Argom - Teclado</td>\n",
       "      <td>3900</td>\n",
       "    </tr>\n",
       "  </tbody>\n",
       "</table>\n",
       "</div>"
      ],
      "text/plain": [
       "                                     Nombre  Precio\n",
       "0                    XTech XTK092E - Ingles    3000\n",
       "1   Redragon P037 Meteor L gaming wrist pad    3000\n",
       "2  Teclado Argom USB - Ingles - ARG-KB-7424    3500\n",
       "3                  Argom - Teclado numérico    3500\n",
       "4                           Argom - Teclado    3900"
      ]
     },
     "execution_count": 26,
     "metadata": {},
     "output_type": "execute_result"
    }
   ],
   "source": [
    "df.head()"
   ]
  },
  {
   "cell_type": "code",
   "execution_count": 27,
   "metadata": {},
   "outputs": [
    {
     "data": {
      "image/png": "[encoded data removed]",
      "text/plain": [
       "<Figure size 1000x800 with 1 Axes>"
      ]
     },
     "metadata": {},
     "output_type": "display_data"
    }
   ],
   "source": [
    "plt.figure(figsize=(10,8))\n",
    "sns.histplot(data=df,x='Precio')\n",
    "plt.title('Precio')\n",
    "plt.ylabel('Frecuencia')\n",
    "plt.show()"
   ]
  },
  {
   "cell_type": "code",
   "execution_count": 28,
   "metadata": {},
   "outputs": [
    {
     "data": {
      "text/plain": [
       "Nombre    Xtech Edición Iron Man - XTK-M401IM\n",
       "Precio                                  15000\n",
       "Name: 19, dtype: object"
      ]
     },
     "execution_count": 28,
     "metadata": {},
     "output_type": "execute_result"
    }
   ],
   "source": [
    "max_precio=df.loc[df['Precio'].idxmax()]\n",
    "max_precio"
   ]
  },
  {
   "cell_type": "code",
   "execution_count": 29,
   "metadata": {},
   "outputs": [
    {
     "data": {
      "text/plain": [
       "Nombre    XTech XTK092E - Ingles\n",
       "Precio                      3000\n",
       "Name: 0, dtype: object"
      ]
     },
     "execution_count": 29,
     "metadata": {},
     "output_type": "execute_result"
    }
   ],
   "source": [
    "min_precio=df.loc[df['Precio'].idxmin()]\n",
    "min_precio"
   ]
  }
 ],
 "metadata": {
  "kernelspec": {
   "display_name": "Python 3",
   "language": "python",
   "name": "python3"
  },
  "language_info": {
   "codemirror_mode": {
    "name": "ipython",
    "version": 3
   },
   "file_extension": ".py",
   "mimetype": "text/x-python",
   "name": "python",
   "nbconvert_exporter": "python",
   "pygments_lexer": "ipython3",
   "version": "3.12.1"
  }
 },
 "nbformat": 4,
 "nbformat_minor": 2
}
