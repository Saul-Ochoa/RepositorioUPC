{
 "cells": [
  {
   "cell_type": "markdown",
   "metadata": {},
   "source": [
    "# **P Value**\n",
    "\n",
    "* El valor p (p-value) es una medida estadística que se utiliza en la prueba de hipótesis para ayudar a determinar la significación estadística de los resultados obtenidos en un experimento o estudio. Aquí tienes una explicación detallada, junto con un ejemplo práctico.\n",
    "\n",
    "* **Concepto Clave :**\n",
    "1. Hipótesis Nula : Es una afirmación que se desea probar, normalmente que no hay efecto o diferencia. Por ejemplo, \"no hay diferencia en el rendimiento entre dos grupos de estudiantes\".\n",
    "\n",
    "2. Hipótesis Alternativa : Es la afirmación que se acepta si se rechaza la hipótesis nula. Por ejemplo, \"hay una diferencia en el rendimiento entre dos grupos de estudiantes\".\n",
    "\n",
    "Valor p: Es la probabilidad de obtener un resultado tan extremo o más extremo que el observado, bajo la suposición de que la hipótesis nula es verdadera. Un valor p bajo sugiere que el resultado observado es poco probable bajo hipótesis nula.\n",
    "\n",
    "* Tomar una decisión:\n",
    "\n",
    "Si p <= alfa Rechaza la Ho. Esto sugiere evidencia suficiente para aceptar Ha\n",
    "\n",
    "Si p > alfa No se rechaza la Ho. Esto sugiere que no hay evidencia suficiente par aceptar Ha"
   ]
  },
  {
   "cell_type": "markdown",
   "metadata": {},
   "source": [
    "## **T-Test**\n",
    "\n",
    "Se va usar cuando tienes una muestra pequeña y no conoces la desviación estandar de la población"
   ]
  },
  {
   "cell_type": "code",
   "execution_count": 18,
   "metadata": {},
   "outputs": [],
   "source": [
    "from scipy.stats import ttest_1samp\n",
    "import numpy as np\n",
    "import numpy as np\n",
    "from scipy import stats\n",
    "from scipy.stats import norm\n",
    "import warnings\n",
    "warnings.filterwarnings('ignore')"
   ]
  },
  {
   "cell_type": "code",
   "execution_count": 16,
   "metadata": {},
   "outputs": [
    {
     "name": "stdout",
     "output_type": "stream",
     "text": [
      "Estadístico t: 6.0000\n",
      "Valor p: 0.0003\n"
     ]
    }
   ],
   "source": [
    "# Datos de los grupos\n",
    "grupo_a = np.array([85, 88, 90, 92, 87])  # Nuevo método\n",
    "grupo_b = np.array([80, 82, 78, 79, 81])  # Método tradicional\n",
    "\n",
    "# Realizar un T-test\n",
    "t_statistic,p_value=stats.ttest_ind(grupo_a, grupo_b)\n",
    "\n",
    "# Imprimir Resultados\n",
    "print(f\"Estadístico t: {t_statistic:.4f}\")\n",
    "print(f\"Valor p: {p_value:.4f}\")\n"
   ]
  },
  {
   "cell_type": "code",
   "execution_count": 3,
   "metadata": {},
   "outputs": [
    {
     "name": "stdout",
     "output_type": "stream",
     "text": [
      "Rechazamos la hipótesis nula (H0). Hay evidencia suficiente para afirmar que el nuevo método mejora el rendimiento.\n"
     ]
    }
   ],
   "source": [
    "# Nivel de significancia\n",
    "alpha = 0.05\n",
    "\n",
    "# Tomar decisión\n",
    "if p_value <= alpha:\n",
    "    print(\"Rechazamos la hipótesis nula (H0). Hay evidencia suficiente para afirmar que el nuevo método mejora el rendimiento.\")\n",
    "else:\n",
    "    print(\"No rechazamos la hipótesis nula (H0). No hay evidencia suficiente para afirmar que el nuevo método mejora el rendimiento.\")"
   ]
  },
  {
   "cell_type": "markdown",
   "metadata": {},
   "source": [
    "## **Z-Test**\n",
    "\n",
    "* Cuando tienes una muestra grande n>30 o conoces la desviacion estandar de la población.\n",
    "\n",
    "\n"
   ]
  },
  {
   "cell_type": "markdown",
   "metadata": {},
   "source": [
    "* Ejemplo \n",
    "Supón que trabajas en una empresa que produce bombillas y quieres verificar si una nueva línea de bombillas tiene una duración media de vida útil diferente a la de la producción estándar, que tiene una media conocida de 1000 horas con una desviación estándar poblacional de 100 horas."
   ]
  },
  {
   "cell_type": "code",
   "execution_count": 4,
   "metadata": {},
   "outputs": [
    {
     "name": "stdout",
     "output_type": "stream",
     "text": [
      "Estadístico Z: -1.4142\n",
      "Valor p: 0.1573\n",
      "No rechazamos la hipótesis nula. No hay evidencia suficiente para decir que la duración media es diferente a 1000 horas.\n"
     ]
    }
   ],
   "source": [
    "# Datos del problema\n",
    "mu = 1000  # Media poblacional\n",
    "sigma = 100  # Desviación estándar poblacional\n",
    "n = 50  # Tamaño de la muestra\n",
    "x_bar = 980  # Media muestral\n",
    "\n",
    "# Calculo del estadístico Z\n",
    "z_statistic=(x_bar - mu) / (sigma / np.sqrt(n))\n",
    "\n",
    "# Cálculo del valor p (dos colas)\n",
    "p_value = stats.norm.sf(abs(z_statistic)) * 2 \n",
    "\n",
    "# Imprimir resultados\n",
    "print(f\"Estadístico Z: {z_statistic:.4f}\")\n",
    "print(f\"Valor p: {p_value:.4f}\")\n",
    "\n",
    "# Decisión\n",
    "alpha = 0.05\n",
    "if p_value <= alpha:\n",
    "    print(\"Rechazamos la hipótesis nula. La nueva línea de bombillas tiene una duración media diferente a 1000 horas.\")\n",
    "else:\n",
    "    print(\"No rechazamos la hipótesis nula. No hay evidencia suficiente para decir que la duración media es diferente a 1000 horas.\")"
   ]
  },
  {
   "cell_type": "markdown",
   "metadata": {},
   "source": [
    "* Ejercicio 1\n",
    "\n",
    "Una asociación de hosteleros rurales desea conocer la edad media de los turistas que optan por\n",
    "los alojamientos rurales durante el período estival. Un estudio realizado tres años antes indicaba\n",
    "que esta edad se situaba en los 39 años. Sin embargo, para planificar la campaña turística de este\n",
    "año, se realiza un nuevo estudio seleccionando una muestra de 850 individuos que desean viajar\n",
    "durante sus vacaciones, resultando que la edad media de los que planean pernoctar en\n",
    "alojamientos rurales es de 40,7 años. Sabiendo que la desviación típica de ese estudio fue de 4,8\n",
    "años, y con un nivel de confianza del 95%, ¿se puede concluir que la edad media de los\n",
    "visitantes ha aumentado en los tres últimos años?"
   ]
  },
  {
   "cell_type": "markdown",
   "metadata": {},
   "source": [
    "* La hipótesis nula Ho: µ =39 : Plantea que la edad media de los turistas no ha cambiado respecto al estudio anterior de hace unos años, por eso establece la igualdad respecto a la edad que indicaba aquel estudio.\n",
    "\n",
    "* La hipótesis alternativa H1: µ >39 Plantea entonces que la edad media es mayor a 39 años."
   ]
  },
  {
   "cell_type": "code",
   "execution_count": 45,
   "metadata": {},
   "outputs": [
    {
     "name": "stdout",
     "output_type": "stream",
     "text": [
      "Estadístico Z: 10.3256\n",
      "Valor de Z: -1.6449\n"
     ]
    }
   ],
   "source": [
    "# Datos del problema\n",
    "mu = 39  # Media poblacional\n",
    "sigma = 4.8  # Desviación estándar poblacional\n",
    "n = 850  # Tamaño de la muestra\n",
    "x_bar = 40.7  # Media muestral\n",
    "\n",
    "\n",
    "# Calculo del estadístico Z\n",
    "z_statistic=(x_bar - mu) / (sigma / np.sqrt(n))\n",
    "\n",
    "# Nivel de significación (alpha)\n",
    "alpha = 0.05\n",
    "\n",
    "# Nivel de confianza (1 - alpha)\n",
    "nivel_confianza = 1 - alpha\n",
    "\n",
    "# Valor de Z unilateral\n",
    "z_valor = norm.ppf(alpha)\n",
    "\n",
    "# Imprimir resultados\n",
    "print(f\"Estadístico Z: {z_statistic:.4f}\")\n",
    "print(f\"Valor de Z: {z_valor:.4f}\")"
   ]
  },
  {
   "cell_type": "code",
   "execution_count": 46,
   "metadata": {},
   "outputs": [
    {
     "name": "stdout",
     "output_type": "stream",
     "text": [
      "Rechazamos la hipótesis nula.\n"
     ]
    }
   ],
   "source": [
    "# Decisión\n",
    "if abs(z_statistic) >= abs(z_valor):\n",
    "    print(\"Rechazamos la hipótesis nula.\")\n",
    "else:\n",
    "    print(\"No rechazamos la hipótesis nula.\")"
   ]
  },
  {
   "cell_type": "markdown",
   "metadata": {},
   "source": [
    "Concluimos que existen evidencias estadísticamente significativas para afirmar, con un nivel de\n",
    "confianza del 95% que la edad media de las personas que optan por los alojamientos rurales ha\n",
    "aumentado en el período considerado."
   ]
  },
  {
   "cell_type": "markdown",
   "metadata": {},
   "source": [
    "* Ejercicio 2\n",
    "\n",
    "En la red de centros de menores de determinada región se quiere comprobar si para determinado\n",
    "colectivo el promedio de intentos de fuga por interno es mayor a 3. Se selecciona aleatoriamente\n",
    "a 20 menores, obteniendo que el nº medio de intentos es 3,5, con una deviación típica de 2,7.\n",
    "Para un nivel de confianza del 99%, ¿puede considerarse que efectivamente el promedio de\n",
    "intentos de fuga es mayor al valor que se planteaba inicialmente?"
   ]
  },
  {
   "cell_type": "markdown",
   "metadata": {},
   "source": [
    "* Ho: µ =3\n",
    "* H1: µ >3\n",
    "\n",
    "La hipótesis nula mantiene que el promedio de intentos se mantiene en 3, mientras que la\n",
    "hipótesis alternativa plantea, tal como se sospecha, que esa cantidad ha aumentado. Tenemos\n",
    "entonces un contraste de hipótesis unilateral. "
   ]
  },
  {
   "cell_type": "code",
   "execution_count": 20,
   "metadata": {},
   "outputs": [
    {
     "name": "stdout",
     "output_type": "stream",
     "text": [
      "t-statística: 0.8072\n",
      "t-crítico: 2.5395\n",
      "No rechazamos la hipótesis nula. No hay evidencia estadística suficiente para concluir que el promedio de intentos de fuga sea mayor a 3.\n"
     ]
    }
   ],
   "source": [
    "# Datos\n",
    "n = 20  # Tamaño de la muestra\n",
    "x_bar = 3.5  # Promedio de intentos de fuga\n",
    "sigma = 2.7  # Desviación típica\n",
    "mu = 3  # Valor de referencia\n",
    "\n",
    "# Prueba de hipótesis\n",
    "\n",
    "# Calculo del estadístico Z\n",
    "t_statistic=(x_bar - mu) / (sigma / np.sqrt(n-1))\n",
    "\n",
    "# Nivel de significación\n",
    "alpha = 0.01\n",
    "\n",
    "# Valor crítico de t\n",
    "grados_libertad = n - 1\n",
    "# Cálculo del valor crítico t (unilateral)\n",
    "t_critico = stats.t.ppf(1 - alpha, grados_libertad)\n",
    "\n",
    "print(f\"t-statística: {t_statistic:.4f}\")\n",
    "print(f\"t-crítico: {t_critico:.4f}\")\n",
    "\n",
    "# Comparación\n",
    "if np.abs(t_statistic) > t_critico:\n",
    "    print(\"Rechazamos la hipótesis nula. El promedio de intentos de fuga es significativamente mayor a 3.\")\n",
    "else:\n",
    "    print(\"No rechazamos la hipótesis nula. No hay evidencia estadística suficiente para concluir que el promedio de intentos de fuga sea mayor a 3.\")\n"
   ]
  },
  {
   "cell_type": "markdown",
   "metadata": {},
   "source": [
    "Ejercicio 3\n",
    "\n",
    "En una encuesta del CIS (diciembre de 2014) se observa que la proporción de españoles que\n",
    "leen semanal o diariamente es del 45,4%, una proporción menor a la que señalaba en 2012 la\n",
    "Federación de Gremios de Editores de España (47,2%). Sabiendo que la encuesta ha sido\n",
    "respondida por 2.477 individuos, ¿se puede considerar significativo este descenso en la\n",
    "proporción de lectores habituales para un nivel de significación de 0,01?\n",
    "\n",
    "\n",
    "* Ho: µ = 47.2\n",
    "* H1: µ < 47.2"
   ]
  },
  {
   "cell_type": "code",
   "execution_count": 41,
   "metadata": {},
   "outputs": [
    {
     "name": "stdout",
     "output_type": "stream",
     "text": [
      "Estadístico Z: -1.7945\n",
      "Valor de Z: -2.3263\n"
     ]
    }
   ],
   "source": [
    "# Datos del problema\n",
    "mu = 0.472  # Media poblacional\n",
    "#sigma = 4.8  # Desviación estándar poblacional\n",
    "n = 2477  # Tamaño de la muestra\n",
    "x_bar = 0.454  # Media muestral\n",
    "\n",
    "\n",
    "# Calculo del estadístico Z\n",
    "z_statistic=(x_bar - mu) / (np.sqrt(mu*(1-mu)/n))\n",
    "\n",
    "# Nivel de significación (alpha)\n",
    "alpha = 0.01\n",
    "\n",
    "# Nivel de confianza (1 - alpha)\n",
    "#nivel_confianza = 1 - alpha\n",
    "\n",
    "# Valor de Z unilateral\n",
    "z_valor = norm.ppf(alpha)\n",
    "\n",
    "# Imprimir resultados\n",
    "print(f\"Estadístico Z: {z_statistic:.4f}\")\n",
    "print(f\"Valor de Z: {z_valor:.4f}\")"
   ]
  },
  {
   "cell_type": "code",
   "execution_count": 42,
   "metadata": {},
   "outputs": [
    {
     "name": "stdout",
     "output_type": "stream",
     "text": [
      "No rechazamos la hipótesis nula.\n"
     ]
    }
   ],
   "source": [
    "# Decisión\n",
    "if abs(z_statistic) >= abs(z_valor):\n",
    "    print(\"Rechazamos la hipótesis nula.\")\n",
    "else:\n",
    "    print(\"No rechazamos la hipótesis nula.\")"
   ]
  },
  {
   "cell_type": "markdown",
   "metadata": {},
   "source": [
    "* Conclusiones\n",
    "\n",
    "Para un nivel de confianza del 99% concluimos que no hay evidencias estadísticamente\n",
    "significativas para rechazar la hipótesis nula (H0). No podemos afirmar que para ese nivel de\n",
    "confianza haya disminuido significativamente la proporción de españoles que leen diaria o\n",
    "semanalmente."
   ]
  },
  {
   "cell_type": "markdown",
   "metadata": {},
   "source": [
    "Ejercicio 4\n",
    "\n",
    "Según una encuesta sobre consumo de drogas realizada en 2015, el 9,1% de la población\n",
    "española había consumido cocaína alguna vez en su vida. En un estudio realizado en 2013,\n",
    "dicha proporción era del 10,3%. Suponiendo que la encuesta se realizó a 2.200 individuos, se\n",
    "desea saber:\n",
    "\n",
    "a) Para un nivel de confianza del 95% si el descenso en el consumo de cocaína es significativo.\n",
    "\n",
    "b) ¿Cuál es y qué significa el p-valor del contraste?\n",
    "\n",
    "* Ho: µ = 0.103\n",
    "* H1: µ < 0.103"
   ]
  },
  {
   "cell_type": "code",
   "execution_count": 43,
   "metadata": {},
   "outputs": [
    {
     "name": "stdout",
     "output_type": "stream",
     "text": [
      "Estadístico Z: -1.8517\n",
      "Valor de Z: -1.6449\n"
     ]
    }
   ],
   "source": [
    "# Datos del problema\n",
    "mu = 0.103  # Media poblacional\n",
    "#sigma = 4.8  # Desviación estándar poblacional\n",
    "n = 2200  # Tamaño de la muestra\n",
    "x_bar = 0.091  # Media muestral \n",
    "\n",
    "\n",
    "# Calculo del estadístico Z\n",
    "z_statistic=(x_bar - mu) / (np.sqrt((mu*(1-mu))/n))\n",
    "\n",
    "# Nivel de significación (alpha)\n",
    "alpha = 0.05\n",
    "\n",
    "# Cálculo del valor crítico Z (unilateral)\n",
    "z_valor = norm.ppf(alpha)\n",
    "\n",
    "# Imprimir resultados\n",
    "print(f\"Estadístico Z: {z_statistic:.4f}\")\n",
    "print(f\"Valor de Z: {z_valor:.4f}\")"
   ]
  },
  {
   "cell_type": "code",
   "execution_count": 44,
   "metadata": {},
   "outputs": [
    {
     "name": "stdout",
     "output_type": "stream",
     "text": [
      "Rechazamos la hipótesis nula.\n"
     ]
    }
   ],
   "source": [
    "# Decisión\n",
    "if abs(z_statistic) >= abs(z_valor):\n",
    "    print(\"Rechazamos la hipótesis nula.\")\n",
    "else:\n",
    "    print(\"No rechazamos la hipótesis nula.\")"
   ]
  },
  {
   "cell_type": "markdown",
   "metadata": {},
   "source": [
    "* Podemos afirmar para un nivel de confianza del 95% que la cantidad de españoles que han consumido cocaína alguna vez en su vida ha descendido respecto al 2013"
   ]
  },
  {
   "cell_type": "markdown",
   "metadata": {},
   "source": [
    "## **Pruebas de Hipotesis**"
   ]
  },
  {
   "cell_type": "markdown",
   "metadata": {},
   "source": [
    "![Pregunta1](Pregunta%201.png)\n"
   ]
  },
  {
   "cell_type": "code",
   "execution_count": 47,
   "metadata": {},
   "outputs": [
    {
     "name": "stdout",
     "output_type": "stream",
     "text": [
      "Estadístico Z: -1.7709\n",
      "Valor de Z: -1.6449\n"
     ]
    }
   ],
   "source": [
    "# Datos del problema\n",
    "mu = 20  # Media poblacional\n",
    "sigma = 2.5  # Desviación estándar poblacional\n",
    "n = 40  # Tamaño de la muestra\n",
    "x_bar = 19.3  # Media muestral\n",
    "\n",
    "\n",
    "# Calculo del estadístico Z\n",
    "z_statistic=(x_bar - mu) / (sigma / np.sqrt(n))\n",
    "\n",
    "# Nivel de significación (alpha)\n",
    "alpha = 0.05\n",
    "\n",
    "# Nivel de confianza (1 - alpha)\n",
    "nivel_confianza = 1 - alpha\n",
    "\n",
    "# Valor de Z unilateral\n",
    "z_valor = norm.ppf(alpha)\n",
    "\n",
    "# Imprimir resultados\n",
    "print(f\"Estadístico Z: {z_statistic:.4f}\")\n",
    "print(f\"Valor de Z: {z_valor:.4f}\")"
   ]
  },
  {
   "cell_type": "code",
   "execution_count": 48,
   "metadata": {},
   "outputs": [
    {
     "name": "stdout",
     "output_type": "stream",
     "text": [
      "Rechazamos la hipótesis nula.\n"
     ]
    }
   ],
   "source": [
    "# Decisión\n",
    "if abs(z_statistic) >= abs(z_valor):\n",
    "    print(\"Rechazamos la hipótesis nula.\")\n",
    "else:\n",
    "    print(\"No rechazamos la hipótesis nula.\")"
   ]
  },
  {
   "cell_type": "markdown",
   "metadata": {},
   "source": [
    "Concluimos que existen evidencias estadísticamente significativas para afirmar, con un nivel de\n",
    "confianza del 95% que el peso del pan es menor a los 20 gramos. \n",
    "Entonces la multa esta bien aplicada"
   ]
  },
  {
   "cell_type": "markdown",
   "metadata": {},
   "source": [
    "![Pregunta2](Pregunta%202.png)"
   ]
  },
  {
   "cell_type": "markdown",
   "metadata": {},
   "source": [
    "* Ho: µ = < 50\n",
    "* H1: µ > 50"
   ]
  },
  {
   "cell_type": "code",
   "execution_count": 51,
   "metadata": {},
   "outputs": [
    {
     "name": "stdout",
     "output_type": "stream",
     "text": [
      "Estadístico Z: 1.3333\n",
      "Valor de Z: -1.6449\n"
     ]
    }
   ],
   "source": [
    "# Datos del problema\n",
    "mu = 50  # Media poblacional\n",
    "sigma = 3  # Desviación estándar poblacional\n",
    "n = 64  # Tamaño de la muestra\n",
    "x_bar = 50.5  # Media muestral\n",
    "\n",
    "\n",
    "# Calculo del estadístico Z\n",
    "z_statistic=(x_bar - mu) / (sigma / np.sqrt(n))\n",
    "\n",
    "# Nivel de significación (alpha)\n",
    "alpha = 0.05\n",
    "\n",
    "# Nivel de confianza (1 - alpha)\n",
    "nivel_confianza = 1 - alpha\n",
    "\n",
    "# Valor de Z unilateral\n",
    "z_valor = norm.ppf(alpha)\n",
    "\n",
    "# Imprimir resultados\n",
    "print(f\"Estadístico Z: {z_statistic:.4f}\")\n",
    "print(f\"Valor de Z: {z_valor:.4f}\")"
   ]
  },
  {
   "cell_type": "code",
   "execution_count": 52,
   "metadata": {},
   "outputs": [
    {
     "name": "stdout",
     "output_type": "stream",
     "text": [
      "No rechazamos la hipótesis nula.\n"
     ]
    }
   ],
   "source": [
    "# Decisión\n",
    "if abs(z_statistic) >= abs(z_valor):\n",
    "    print(\"Rechazamos la hipótesis nula.\")\n",
    "else:\n",
    "    print(\"No rechazamos la hipótesis nula.\")"
   ]
  },
  {
   "cell_type": "markdown",
   "metadata": {},
   "source": [
    "* En conclusión se debe rechazar el lote, ya que presenta una vida de 50.5 horas en promedio"
   ]
  },
  {
   "cell_type": "markdown",
   "metadata": {},
   "source": [
    "![Pregunta1](Pregunta%203.png)"
   ]
  },
  {
   "cell_type": "markdown",
   "metadata": {},
   "source": [
    "* ho = 18\n",
    "\n",
    "* ha < 18"
   ]
  },
  {
   "cell_type": "code",
   "execution_count": 55,
   "metadata": {},
   "outputs": [
    {
     "name": "stdout",
     "output_type": "stream",
     "text": [
      "t-statística: -1.9365\n",
      "t-crítico: 1.7531\n",
      "Rechazamos la hipótesis nula.\n"
     ]
    }
   ],
   "source": [
    "# Datos del problema\n",
    "mu = 18  # Media poblacional\n",
    "sigma = 2  # Desviación estándar poblacional\n",
    "n = 16  # Tamaño de la muestra\n",
    "x_bar = 17  # Media muestral\n",
    "\n",
    "# Prueba de hipótesis\n",
    "\n",
    "# Calculo del estadístico Z\n",
    "t_statistic=(x_bar - mu) / (sigma / np.sqrt(n-1))\n",
    "\n",
    "# Nivel de significación\n",
    "alpha = 0.05\n",
    "\n",
    "# Valor crítico de t\n",
    "grados_libertad = n - 1\n",
    "# Cálculo del valor crítico t (unilateral)\n",
    "t_critico = stats.t.ppf(1 - alpha, grados_libertad)\n",
    "\n",
    "print(f\"t-statística: {t_statistic:.4f}\")\n",
    "print(f\"t-crítico: {t_critico:.4f}\")\n",
    "\n",
    "# Comparación\n",
    "if np.abs(t_statistic) > t_critico:\n",
    "    print(\"Rechazamos la hipótesis nula.\")\n",
    "else:\n",
    "    print(\"No rechazamos la hipótesis nula.\")\n"
   ]
  },
  {
   "cell_type": "markdown",
   "metadata": {},
   "source": [
    "Conclusion Rechazamos la hipotesis nula y no aceptamos que la hipotesis de la media es igual a 18"
   ]
  },
  {
   "cell_type": "code",
   "execution_count": null,
   "metadata": {},
   "outputs": [],
   "source": []
  }
 ],
 "metadata": {
  "kernelspec": {
   "display_name": "Python 3",
   "language": "python",
   "name": "python3"
  },
  "language_info": {
   "codemirror_mode": {
    "name": "ipython",
    "version": 3
   },
   "file_extension": ".py",
   "mimetype": "text/x-python",
   "name": "python",
   "nbconvert_exporter": "python",
   "pygments_lexer": "ipython3",
   "version": "3.12.1"
  }
 },
 "nbformat": 4,
 "nbformat_minor": 2
}
