{
 "cells": [
  {
   "cell_type": "markdown",
   "metadata": {},
   "source": [
    "## **Pricing**"
   ]
  },
  {
   "cell_type": "markdown",
   "metadata": {},
   "source": [
    "This dataset provides detailed insights into the pricing of 1GB of mobile data across various regions and countries. It includes average prices in local and USD-equivalent currencies, conversion rates, and detailed pricing data for the cheapest and most expensive packages. The dataset is invaluable for economic research, telecommunications analysis, and global price comparison studies.\n",
    "\n",
    "The data captures the pricing variability across different continents and regions and provides frozen exchange rates as of July 9, 2023, ensuring consistent comparison. With over 5,600 packages analyzed, the dataset also includes global aggregates such as the average package price worldwide, the most expensive and cheapest 1GB globally, and the total number of countries studied."
   ]
  },
  {
   "cell_type": "code",
   "execution_count": 1,
   "metadata": {},
   "outputs": [],
   "source": [
    "import pandas as pd\n",
    "import openpyxl\n",
    "import numpy as np \n",
    "import seaborn as sns\n",
    "import matplotlib.pyplot as plt\n",
    "import plotly.express as px\n",
    "import time\n",
    "import warnings\n",
    "warnings.filterwarnings('ignore')"
   ]
  },
  {
   "cell_type": "code",
   "execution_count": 2,
   "metadata": {},
   "outputs": [
    {
     "data": {
      "text/html": [
       "<div>\n",
       "<style scoped>\n",
       "    .dataframe tbody tr th:only-of-type {\n",
       "        vertical-align: middle;\n",
       "    }\n",
       "\n",
       "    .dataframe tbody tr th {\n",
       "        vertical-align: top;\n",
       "    }\n",
       "\n",
       "    .dataframe thead th {\n",
       "        text-align: right;\n",
       "    }\n",
       "</style>\n",
       "<table border=\"1\" class=\"dataframe\">\n",
       "  <thead>\n",
       "    <tr style=\"text-align: right;\">\n",
       "      <th></th>\n",
       "      <th>Continental region</th>\n",
       "      <th>Plans measured</th>\n",
       "      <th>Average price of 1GB (local currency)</th>\n",
       "      <th>Currency</th>\n",
       "      <th>Conversion rate (USD) (Frozen 07/09/2023)</th>\n",
       "      <th>Average price of 1GB (USD)</th>\n",
       "      <th>Cheapest 1GB (Local currency)</th>\n",
       "      <th>Cheapest 1GB for 30 days (USD)</th>\n",
       "      <th>Most expensive 1GB (Local currency)</th>\n",
       "      <th>Most expensive 1GB (USD)</th>\n",
       "      <th>Sample date</th>\n",
       "      <th>Global Totals (2023)</th>\n",
       "      <th>Unnamed: 12</th>\n",
       "    </tr>\n",
       "  </thead>\n",
       "  <tbody>\n",
       "    <tr>\n",
       "      <th>0</th>\n",
       "      <td>NEAR EAST</td>\n",
       "      <td>24</td>\n",
       "      <td>0.08</td>\n",
       "      <td>ILS</td>\n",
       "      <td>0.25988</td>\n",
       "      <td>0.02</td>\n",
       "      <td>0.004</td>\n",
       "      <td>0.001</td>\n",
       "      <td>0.83</td>\n",
       "      <td>0.22</td>\n",
       "      <td>24-07-2023</td>\n",
       "      <td>Total number of countries</td>\n",
       "      <td>237.000</td>\n",
       "    </tr>\n",
       "    <tr>\n",
       "      <th>1</th>\n",
       "      <td>WESTERN EUROPE</td>\n",
       "      <td>33</td>\n",
       "      <td>0.08</td>\n",
       "      <td>EUR</td>\n",
       "      <td>1.07157</td>\n",
       "      <td>0.09</td>\n",
       "      <td>0.030</td>\n",
       "      <td>0.030</td>\n",
       "      <td>2.00</td>\n",
       "      <td>2.14</td>\n",
       "      <td>25-07-2023</td>\n",
       "      <td>Most expensive 1GB</td>\n",
       "      <td>138.190</td>\n",
       "    </tr>\n",
       "    <tr>\n",
       "      <th>2</th>\n",
       "      <td>OCEANIA</td>\n",
       "      <td>17</td>\n",
       "      <td>0.20</td>\n",
       "      <td>FJD</td>\n",
       "      <td>0.44000</td>\n",
       "      <td>0.09</td>\n",
       "      <td>0.100</td>\n",
       "      <td>0.040</td>\n",
       "      <td>1.00</td>\n",
       "      <td>0.44</td>\n",
       "      <td>19-07-2023</td>\n",
       "      <td>Cheapest 1GB</td>\n",
       "      <td>0.001</td>\n",
       "    </tr>\n",
       "    <tr>\n",
       "      <th>3</th>\n",
       "      <td>WESTERN EUROPE</td>\n",
       "      <td>12</td>\n",
       "      <td>0.09</td>\n",
       "      <td>EUR</td>\n",
       "      <td>1.07157</td>\n",
       "      <td>0.10</td>\n",
       "      <td>0.040</td>\n",
       "      <td>0.040</td>\n",
       "      <td>2.00</td>\n",
       "      <td>2.14</td>\n",
       "      <td>2023-06-09 00:00:00</td>\n",
       "      <td>Average package price globally</td>\n",
       "      <td>0.460</td>\n",
       "    </tr>\n",
       "    <tr>\n",
       "      <th>4</th>\n",
       "      <td>ASIA (EX. NEAR EAST)</td>\n",
       "      <td>16</td>\n",
       "      <td>0.12</td>\n",
       "      <td>USD</td>\n",
       "      <td>1.00000</td>\n",
       "      <td>0.12</td>\n",
       "      <td>0.100</td>\n",
       "      <td>0.100</td>\n",
       "      <td>0.20</td>\n",
       "      <td>0.20</td>\n",
       "      <td>2023-01-09 00:00:00</td>\n",
       "      <td>Total packages included in study</td>\n",
       "      <td>5603.000</td>\n",
       "    </tr>\n",
       "    <tr>\n",
       "      <th>...</th>\n",
       "      <td>...</td>\n",
       "      <td>...</td>\n",
       "      <td>...</td>\n",
       "      <td>...</td>\n",
       "      <td>...</td>\n",
       "      <td>...</td>\n",
       "      <td>...</td>\n",
       "      <td>...</td>\n",
       "      <td>...</td>\n",
       "      <td>...</td>\n",
       "      <td>...</td>\n",
       "      <td>...</td>\n",
       "      <td>...</td>\n",
       "    </tr>\n",
       "    <tr>\n",
       "      <th>232</th>\n",
       "      <td>OCEANIA</td>\n",
       "      <td>6</td>\n",
       "      <td>29.27</td>\n",
       "      <td>NZD</td>\n",
       "      <td>0.58895</td>\n",
       "      <td>17.24</td>\n",
       "      <td>22.220</td>\n",
       "      <td>13.090</td>\n",
       "      <td>40.00</td>\n",
       "      <td>23.56</td>\n",
       "      <td>2023-09-08 00:00:00</td>\n",
       "      <td>NaN</td>\n",
       "      <td>NaN</td>\n",
       "    </tr>\n",
       "    <tr>\n",
       "      <th>233</th>\n",
       "      <td>SUB-SAHARAN AFRICA</td>\n",
       "      <td>26</td>\n",
       "      <td>3087.33</td>\n",
       "      <td>SSP</td>\n",
       "      <td>0.00768</td>\n",
       "      <td>23.70</td>\n",
       "      <td>600.000</td>\n",
       "      <td>4.610</td>\n",
       "      <td>18000.00</td>\n",
       "      <td>138.19</td>\n",
       "      <td>2023-08-08 00:00:00</td>\n",
       "      <td>NaN</td>\n",
       "      <td>NaN</td>\n",
       "    </tr>\n",
       "    <tr>\n",
       "      <th>234</th>\n",
       "      <td>SUB-SAHARAN AFRICA</td>\n",
       "      <td>4</td>\n",
       "      <td>31.94</td>\n",
       "      <td>SHP</td>\n",
       "      <td>1.25654</td>\n",
       "      <td>40.13</td>\n",
       "      <td>30.900</td>\n",
       "      <td>38.830</td>\n",
       "      <td>41.20</td>\n",
       "      <td>51.77</td>\n",
       "      <td>2023-08-08 00:00:00</td>\n",
       "      <td>NaN</td>\n",
       "      <td>NaN</td>\n",
       "    </tr>\n",
       "    <tr>\n",
       "      <th>235</th>\n",
       "      <td>SOUTH AMERICA</td>\n",
       "      <td>4</td>\n",
       "      <td>32.50</td>\n",
       "      <td>FKP</td>\n",
       "      <td>1.24860</td>\n",
       "      <td>40.58</td>\n",
       "      <td>21.670</td>\n",
       "      <td>27.050</td>\n",
       "      <td>60.00</td>\n",
       "      <td>74.92</td>\n",
       "      <td>2023-04-09 00:00:00</td>\n",
       "      <td>NaN</td>\n",
       "      <td>NaN</td>\n",
       "    </tr>\n",
       "    <tr>\n",
       "      <th>236</th>\n",
       "      <td>SUB-SAHARAN AFRICA</td>\n",
       "      <td>23</td>\n",
       "      <td>43.75</td>\n",
       "      <td>USD</td>\n",
       "      <td>1.00000</td>\n",
       "      <td>43.75</td>\n",
       "      <td>1.170</td>\n",
       "      <td>1.170</td>\n",
       "      <td>81.83</td>\n",
       "      <td>81.83</td>\n",
       "      <td>2023-06-09 00:00:00</td>\n",
       "      <td>NaN</td>\n",
       "      <td>NaN</td>\n",
       "    </tr>\n",
       "  </tbody>\n",
       "</table>\n",
       "<p>237 rows × 13 columns</p>\n",
       "</div>"
      ],
      "text/plain": [
       "       Continental region  Plans measured  \\\n",
       "0               NEAR EAST              24   \n",
       "1          WESTERN EUROPE              33   \n",
       "2                 OCEANIA              17   \n",
       "3          WESTERN EUROPE              12   \n",
       "4    ASIA (EX. NEAR EAST)              16   \n",
       "..                    ...             ...   \n",
       "232               OCEANIA               6   \n",
       "233    SUB-SAHARAN AFRICA              26   \n",
       "234    SUB-SAHARAN AFRICA               4   \n",
       "235         SOUTH AMERICA               4   \n",
       "236    SUB-SAHARAN AFRICA              23   \n",
       "\n",
       "     Average price of 1GB (local currency) Currency  \\\n",
       "0                                     0.08      ILS   \n",
       "1                                     0.08      EUR   \n",
       "2                                     0.20      FJD   \n",
       "3                                     0.09      EUR   \n",
       "4                                     0.12      USD   \n",
       "..                                     ...      ...   \n",
       "232                                  29.27      NZD   \n",
       "233                                3087.33      SSP   \n",
       "234                                  31.94      SHP   \n",
       "235                                  32.50      FKP   \n",
       "236                                  43.75      USD   \n",
       "\n",
       "     Conversion rate (USD) (Frozen 07/09/2023)  Average price of 1GB (USD)  \\\n",
       "0                                      0.25988                        0.02   \n",
       "1                                      1.07157                        0.09   \n",
       "2                                      0.44000                        0.09   \n",
       "3                                      1.07157                        0.10   \n",
       "4                                      1.00000                        0.12   \n",
       "..                                         ...                         ...   \n",
       "232                                    0.58895                       17.24   \n",
       "233                                    0.00768                       23.70   \n",
       "234                                    1.25654                       40.13   \n",
       "235                                    1.24860                       40.58   \n",
       "236                                    1.00000                       43.75   \n",
       "\n",
       "     Cheapest 1GB (Local currency)  Cheapest 1GB for 30 days (USD)  \\\n",
       "0                            0.004                           0.001   \n",
       "1                            0.030                           0.030   \n",
       "2                            0.100                           0.040   \n",
       "3                            0.040                           0.040   \n",
       "4                            0.100                           0.100   \n",
       "..                             ...                             ...   \n",
       "232                         22.220                          13.090   \n",
       "233                        600.000                           4.610   \n",
       "234                         30.900                          38.830   \n",
       "235                         21.670                          27.050   \n",
       "236                          1.170                           1.170   \n",
       "\n",
       "     Most expensive 1GB (Local currency)  Most expensive 1GB (USD)  \\\n",
       "0                                   0.83                      0.22   \n",
       "1                                   2.00                      2.14   \n",
       "2                                   1.00                      0.44   \n",
       "3                                   2.00                      2.14   \n",
       "4                                   0.20                      0.20   \n",
       "..                                   ...                       ...   \n",
       "232                                40.00                     23.56   \n",
       "233                             18000.00                    138.19   \n",
       "234                                41.20                     51.77   \n",
       "235                                60.00                     74.92   \n",
       "236                                81.83                     81.83   \n",
       "\n",
       "             Sample date              Global Totals (2023)  Unnamed: 12  \n",
       "0             24-07-2023         Total number of countries      237.000  \n",
       "1             25-07-2023                Most expensive 1GB      138.190  \n",
       "2             19-07-2023                      Cheapest 1GB        0.001  \n",
       "3    2023-06-09 00:00:00    Average package price globally        0.460  \n",
       "4    2023-01-09 00:00:00  Total packages included in study     5603.000  \n",
       "..                   ...                               ...          ...  \n",
       "232  2023-09-08 00:00:00                               NaN          NaN  \n",
       "233  2023-08-08 00:00:00                               NaN          NaN  \n",
       "234  2023-08-08 00:00:00                               NaN          NaN  \n",
       "235  2023-04-09 00:00:00                               NaN          NaN  \n",
       "236  2023-06-09 00:00:00                               NaN          NaN  \n",
       "\n",
       "[237 rows x 13 columns]"
      ]
     },
     "execution_count": 2,
     "metadata": {},
     "output_type": "execute_result"
    }
   ],
   "source": [
    "url=\"Data pricing.xlsx\"\n",
    "df=pd.read_excel(url)\n",
    "df"
   ]
  },
  {
   "cell_type": "code",
   "execution_count": 3,
   "metadata": {},
   "outputs": [],
   "source": [
    "# Eliminar las columnas Global total y unnamed\n",
    "df.drop(columns=['Global Totals (2023)'],inplace=True)\n",
    "df.drop(columns=['Unnamed: 12'],inplace=True)"
   ]
  },
  {
   "cell_type": "code",
   "execution_count": 4,
   "metadata": {},
   "outputs": [
    {
     "data": {
      "text/plain": [
       "(237, 11)"
      ]
     },
     "execution_count": 4,
     "metadata": {},
     "output_type": "execute_result"
    }
   ],
   "source": [
    "df.shape"
   ]
  },
  {
   "cell_type": "code",
   "execution_count": 5,
   "metadata": {},
   "outputs": [
    {
     "name": "stdout",
     "output_type": "stream",
     "text": [
      "<class 'pandas.core.frame.DataFrame'>\n",
      "RangeIndex: 237 entries, 0 to 236\n",
      "Data columns (total 11 columns):\n",
      " #   Column                                     Non-Null Count  Dtype  \n",
      "---  ------                                     --------------  -----  \n",
      " 0   Continental region                         237 non-null    object \n",
      " 1   Plans measured                             237 non-null    int64  \n",
      " 2   Average price of 1GB (local currency)      237 non-null    float64\n",
      " 3   Currency                                   237 non-null    object \n",
      " 4   Conversion rate (USD) (Frozen 07/09/2023)  237 non-null    float64\n",
      " 5   Average price of 1GB (USD)                 237 non-null    float64\n",
      " 6   Cheapest 1GB (Local currency)              237 non-null    float64\n",
      " 7   Cheapest 1GB for 30 days (USD)             237 non-null    float64\n",
      " 8   Most expensive 1GB (Local currency)        237 non-null    float64\n",
      " 9   Most expensive 1GB (USD)                   237 non-null    float64\n",
      " 10  Sample date                                237 non-null    object \n",
      "dtypes: float64(7), int64(1), object(3)\n",
      "memory usage: 20.5+ KB\n"
     ]
    }
   ],
   "source": [
    "df.info()"
   ]
  },
  {
   "cell_type": "code",
   "execution_count": 6,
   "metadata": {},
   "outputs": [
    {
     "name": "stdout",
     "output_type": "stream",
     "text": [
      "<class 'pandas.core.frame.DataFrame'>\n",
      "RangeIndex: 237 entries, 0 to 236\n",
      "Data columns (total 11 columns):\n",
      " #   Column                                     Non-Null Count  Dtype         \n",
      "---  ------                                     --------------  -----         \n",
      " 0   Continental region                         237 non-null    object        \n",
      " 1   Plans measured                             237 non-null    int64         \n",
      " 2   Average price of 1GB (local currency)      237 non-null    float64       \n",
      " 3   Currency                                   237 non-null    object        \n",
      " 4   Conversion rate (USD) (Frozen 07/09/2023)  237 non-null    float64       \n",
      " 5   Average price of 1GB (USD)                 237 non-null    float64       \n",
      " 6   Cheapest 1GB (Local currency)              237 non-null    float64       \n",
      " 7   Cheapest 1GB for 30 days (USD)             237 non-null    float64       \n",
      " 8   Most expensive 1GB (Local currency)        237 non-null    float64       \n",
      " 9   Most expensive 1GB (USD)                   237 non-null    float64       \n",
      " 10  Sample date                                237 non-null    datetime64[ns]\n",
      "dtypes: datetime64[ns](1), float64(7), int64(1), object(2)\n",
      "memory usage: 20.5+ KB\n"
     ]
    }
   ],
   "source": [
    "df['Sample date']=pd.to_datetime(df['Sample date'])\n",
    "df.info()"
   ]
  },
  {
   "cell_type": "code",
   "execution_count": 7,
   "metadata": {},
   "outputs": [
    {
     "data": {
      "text/html": [
       "<div>\n",
       "<style scoped>\n",
       "    .dataframe tbody tr th:only-of-type {\n",
       "        vertical-align: middle;\n",
       "    }\n",
       "\n",
       "    .dataframe tbody tr th {\n",
       "        vertical-align: top;\n",
       "    }\n",
       "\n",
       "    .dataframe thead th {\n",
       "        text-align: right;\n",
       "    }\n",
       "</style>\n",
       "<table border=\"1\" class=\"dataframe\">\n",
       "  <thead>\n",
       "    <tr style=\"text-align: right;\">\n",
       "      <th></th>\n",
       "      <th>Continental region</th>\n",
       "      <th>Plans measured</th>\n",
       "      <th>Average price of 1GB (local currency)</th>\n",
       "      <th>Currency</th>\n",
       "      <th>Conversion rate (USD) (Frozen 07/09/2023)</th>\n",
       "      <th>Average price of 1GB (USD)</th>\n",
       "      <th>Cheapest 1GB (Local currency)</th>\n",
       "      <th>Cheapest 1GB for 30 days (USD)</th>\n",
       "      <th>Most expensive 1GB (Local currency)</th>\n",
       "      <th>Most expensive 1GB (USD)</th>\n",
       "      <th>Sample date</th>\n",
       "    </tr>\n",
       "  </thead>\n",
       "  <tbody>\n",
       "    <tr>\n",
       "      <th>0</th>\n",
       "      <td>NEAR EAST</td>\n",
       "      <td>24</td>\n",
       "      <td>0.08</td>\n",
       "      <td>ILS</td>\n",
       "      <td>0.25988</td>\n",
       "      <td>0.02</td>\n",
       "      <td>0.004</td>\n",
       "      <td>0.001</td>\n",
       "      <td>0.83</td>\n",
       "      <td>0.22</td>\n",
       "      <td>2023-07-24</td>\n",
       "    </tr>\n",
       "    <tr>\n",
       "      <th>1</th>\n",
       "      <td>WESTERN EUROPE</td>\n",
       "      <td>33</td>\n",
       "      <td>0.08</td>\n",
       "      <td>EUR</td>\n",
       "      <td>1.07157</td>\n",
       "      <td>0.09</td>\n",
       "      <td>0.030</td>\n",
       "      <td>0.030</td>\n",
       "      <td>2.00</td>\n",
       "      <td>2.14</td>\n",
       "      <td>2023-07-25</td>\n",
       "    </tr>\n",
       "    <tr>\n",
       "      <th>2</th>\n",
       "      <td>OCEANIA</td>\n",
       "      <td>17</td>\n",
       "      <td>0.20</td>\n",
       "      <td>FJD</td>\n",
       "      <td>0.44000</td>\n",
       "      <td>0.09</td>\n",
       "      <td>0.100</td>\n",
       "      <td>0.040</td>\n",
       "      <td>1.00</td>\n",
       "      <td>0.44</td>\n",
       "      <td>2023-07-19</td>\n",
       "    </tr>\n",
       "    <tr>\n",
       "      <th>3</th>\n",
       "      <td>WESTERN EUROPE</td>\n",
       "      <td>12</td>\n",
       "      <td>0.09</td>\n",
       "      <td>EUR</td>\n",
       "      <td>1.07157</td>\n",
       "      <td>0.10</td>\n",
       "      <td>0.040</td>\n",
       "      <td>0.040</td>\n",
       "      <td>2.00</td>\n",
       "      <td>2.14</td>\n",
       "      <td>2023-06-09</td>\n",
       "    </tr>\n",
       "    <tr>\n",
       "      <th>4</th>\n",
       "      <td>ASIA (EX. NEAR EAST)</td>\n",
       "      <td>16</td>\n",
       "      <td>0.12</td>\n",
       "      <td>USD</td>\n",
       "      <td>1.00000</td>\n",
       "      <td>0.12</td>\n",
       "      <td>0.100</td>\n",
       "      <td>0.100</td>\n",
       "      <td>0.20</td>\n",
       "      <td>0.20</td>\n",
       "      <td>2023-01-09</td>\n",
       "    </tr>\n",
       "  </tbody>\n",
       "</table>\n",
       "</div>"
      ],
      "text/plain": [
       "     Continental region  Plans measured  \\\n",
       "0             NEAR EAST              24   \n",
       "1        WESTERN EUROPE              33   \n",
       "2               OCEANIA              17   \n",
       "3        WESTERN EUROPE              12   \n",
       "4  ASIA (EX. NEAR EAST)              16   \n",
       "\n",
       "   Average price of 1GB (local currency) Currency  \\\n",
       "0                                   0.08      ILS   \n",
       "1                                   0.08      EUR   \n",
       "2                                   0.20      FJD   \n",
       "3                                   0.09      EUR   \n",
       "4                                   0.12      USD   \n",
       "\n",
       "   Conversion rate (USD) (Frozen 07/09/2023)  Average price of 1GB (USD)  \\\n",
       "0                                    0.25988                        0.02   \n",
       "1                                    1.07157                        0.09   \n",
       "2                                    0.44000                        0.09   \n",
       "3                                    1.07157                        0.10   \n",
       "4                                    1.00000                        0.12   \n",
       "\n",
       "   Cheapest 1GB (Local currency)  Cheapest 1GB for 30 days (USD)  \\\n",
       "0                          0.004                           0.001   \n",
       "1                          0.030                           0.030   \n",
       "2                          0.100                           0.040   \n",
       "3                          0.040                           0.040   \n",
       "4                          0.100                           0.100   \n",
       "\n",
       "   Most expensive 1GB (Local currency)  Most expensive 1GB (USD) Sample date  \n",
       "0                                 0.83                      0.22  2023-07-24  \n",
       "1                                 2.00                      2.14  2023-07-25  \n",
       "2                                 1.00                      0.44  2023-07-19  \n",
       "3                                 2.00                      2.14  2023-06-09  \n",
       "4                                 0.20                      0.20  2023-01-09  "
      ]
     },
     "execution_count": 7,
     "metadata": {},
     "output_type": "execute_result"
    }
   ],
   "source": [
    "df.head()"
   ]
  },
  {
   "cell_type": "code",
   "execution_count": 8,
   "metadata": {},
   "outputs": [],
   "source": [
    "df['year'] = df['Sample date'].dt.year\n",
    "df['month'] = df['Sample date'].dt.month"
   ]
  },
  {
   "cell_type": "markdown",
   "metadata": {},
   "source": [
    "## **EDA**"
   ]
  },
  {
   "cell_type": "code",
   "execution_count": 9,
   "metadata": {},
   "outputs": [
    {
     "name": "stdout",
     "output_type": "stream",
     "text": [
      "Continental region\n",
      "SUB-SAHARAN AFRICA      50\n",
      "WESTERN EUROPE          29\n",
      "CARIBBEAN               29\n",
      "ASIA (EX. NEAR EAST)    28\n",
      "OCEANIA                 24\n",
      "NEAR EAST               15\n",
      "EASTERN EUROPE          15\n",
      "SOUTH AMERICA           14\n",
      "CIS                     11\n",
      "CENTRAL AMERICA          8\n",
      "NORTHERN AFRICA          7\n",
      "NORTHERN AMERICA         4\n",
      "BALTICS                  3\n",
      "Name: count, dtype: int64\n",
      "--------------------\n",
      "Currency\n",
      "EUR    36\n",
      "USD    21\n",
      "XOF    10\n",
      "XCD     9\n",
      "AUD     6\n",
      "       ..\n",
      "SGD     1\n",
      "KES     1\n",
      "PHP     1\n",
      "RSD     1\n",
      "FKP     1\n",
      "Name: count, Length: 143, dtype: int64\n",
      "--------------------\n"
     ]
    }
   ],
   "source": [
    "# Datos categoricos\n",
    "cat=df.select_dtypes(include='object').columns\n",
    "for i in cat:\n",
    "    print(df[i].value_counts())\n",
    "    print('--------------------')"
   ]
  },
  {
   "cell_type": "code",
   "execution_count": 10,
   "metadata": {},
   "outputs": [
    {
     "data": {
      "image/png": "[encoded data removed]",
      "text/plain": [
       "<Figure size 1400x600 with 1 Axes>"
      ]
     },
     "metadata": {},
     "output_type": "display_data"
    },
    {
     "data": {
      "image/png": "[encoded data removed]",
      "text/plain": [
       "<Figure size 1400x600 with 1 Axes>"
      ]
     },
     "metadata": {},
     "output_type": "display_data"
    }
   ],
   "source": [
    "for i in cat:\n",
    "    plt.figure(figsize=(14,6))\n",
    "    sns.countplot(data=df,x=i)\n",
    "    plt.title(i,fontsize=12)\n",
    "    plt.xticks(rotation='vertical')\n",
    "    plt.tight_layout()\n",
    "    plt.show()"
   ]
  },
  {
   "cell_type": "code",
   "execution_count": 24,
   "metadata": {},
   "outputs": [
    {
     "data": {
      "image/png": "[encoded data removed]",
      "text/plain": [
       "<Figure size 1400x600 with 1 Axes>"
      ]
     },
     "metadata": {},
     "output_type": "display_data"
    },
    {
     "data": {
      "image/png": "[encoded data removed]",
      "text/plain": [
       "<Figure size 1400x600 with 1 Axes>"
      ]
     },
     "metadata": {},
     "output_type": "display_data"
    }
   ],
   "source": [
    "plt.figure(figsize=(14,6))\n",
    "sns.boxenplot(data=df,y='Plans measured',x='month',hue='Continental region')\n",
    "plt.title('Plans measured by month')\n",
    "plt.show()\n",
    "\n",
    "\n",
    "plt.figure(figsize=(14,6))\n",
    "sns.boxenplot(data=df,y='Average price of 1GB (USD)',x='month',hue='Continental region')\n",
    "plt.title('Average price of 1GB (USD) by month')\n",
    "plt.show()"
   ]
  },
  {
   "cell_type": "code",
   "execution_count": 25,
   "metadata": {},
   "outputs": [
    {
     "data": {
      "application/vnd.plotly.v1+json": {
       "config": {
        "plotlyServerURL": "https://plot.ly"
       },
       "data": [
        {
         "alignmentgroup": "True",
         "hovertemplate": "Continental region=NEAR EAST<br>month=%{x}<br>Plans measured=%{y}<extra></extra>",
         "legendgroup": "NEAR EAST",
         "marker": {
          "color": "#636efa"
         },
         "name": "NEAR EAST",
         "notched": false,
         "offsetgroup": "NEAR EAST",
         "orientation": "v",
         "showlegend": true,
         "type": "box",
         "x": [
          7,
          9,
          7,
          8,
          7,
          8,
          6,
          12,
          7,
          7,
          4,
          6,
          7,
          5,
          11
         ],
         "x0": " ",
         "xaxis": "x",
         "y": [
          24,
          30,
          21,
          9,
          45,
          35,
          23,
          20,
          24,
          41,
          41,
          6,
          14,
          25,
          18
         ],
         "y0": " ",
         "yaxis": "y"
        },
        {
         "alignmentgroup": "True",
         "hovertemplate": "Continental region=WESTERN EUROPE<br>month=%{x}<br>Plans measured=%{y}<extra></extra>",
         "legendgroup": "WESTERN EUROPE",
         "marker": {
          "color": "#EF553B"
         },
         "name": "WESTERN EUROPE",
         "notched": false,
         "offsetgroup": "WESTERN EUROPE",
         "orientation": "v",
         "showlegend": true,
         "type": "box",
         "x": [
          7,
          6,
          7,
          7,
          7,
          6,
          7,
          7,
          7,
          7,
          7,
          7,
          7,
          7,
          3,
          7,
          7,
          6,
          7,
          7,
          10,
          7,
          7,
          6,
          3,
          5,
          10,
          7,
          4
         ],
         "x0": " ",
         "xaxis": "x",
         "y": [
          33,
          12,
          49,
          4,
          58,
          35,
          16,
          59,
          5,
          28,
          16,
          8,
          13,
          13,
          50,
          11,
          13,
          20,
          3,
          58,
          52,
          10,
          11,
          8,
          5,
          6,
          2,
          13,
          2
         ],
         "y0": " ",
         "yaxis": "y"
        },
        {
         "alignmentgroup": "True",
         "hovertemplate": "Continental region=OCEANIA<br>month=%{x}<br>Plans measured=%{y}<extra></extra>",
         "legendgroup": "OCEANIA",
         "marker": {
          "color": "#00cc96"
         },
         "name": "OCEANIA",
         "notched": false,
         "offsetgroup": "OCEANIA",
         "orientation": "v",
         "showlegend": true,
         "type": "box",
         "x": [
          7,
          10,
          6,
          4,
          9,
          4,
          6,
          10,
          6,
          7,
          7,
          1,
          7,
          4,
          4,
          7,
          3,
          4,
          4,
          9,
          4,
          7,
          7,
          9
         ],
         "x0": " ",
         "xaxis": "x",
         "y": [
          17,
          39,
          59,
          25,
          22,
          38,
          42,
          24,
          4,
          5,
          4,
          3,
          2,
          6,
          10,
          9,
          4,
          39,
          10,
          7,
          3,
          25,
          7,
          6
         ],
         "y0": " ",
         "yaxis": "y"
        },
        {
         "alignmentgroup": "True",
         "hovertemplate": "Continental region=ASIA (EX. NEAR EAST)<br>month=%{x}<br>Plans measured=%{y}<extra></extra>",
         "legendgroup": "ASIA (EX. NEAR EAST)",
         "marker": {
          "color": "#ab63fa"
         },
         "name": "ASIA (EX. NEAR EAST)",
         "notched": false,
         "offsetgroup": "ASIA (EX. NEAR EAST)",
         "orientation": "v",
         "showlegend": true,
         "type": "box",
         "x": [
          1,
          6,
          7,
          8,
          5,
          7,
          7,
          2,
          10,
          7,
          1,
          6,
          4,
          6,
          7,
          9,
          7,
          7,
          1,
          5,
          1,
          5,
          7,
          6,
          2,
          7,
          7,
          7
         ],
         "x0": " ",
         "xaxis": "x",
         "y": [
          16,
          56,
          35,
          60,
          46,
          51,
          52,
          45,
          39,
          6,
          29,
          26,
          51,
          23,
          18,
          11,
          57,
          26,
          29,
          60,
          12,
          41,
          24,
          43,
          49,
          22,
          5,
          16
         ],
         "y0": " ",
         "yaxis": "y"
        },
        {
         "alignmentgroup": "True",
         "hovertemplate": "Continental region=CIS<br>month=%{x}<br>Plans measured=%{y}<extra></extra>",
         "legendgroup": "CIS",
         "marker": {
          "color": "#FFA15A"
         },
         "name": "CIS",
         "notched": false,
         "offsetgroup": "CIS",
         "orientation": "v",
         "showlegend": true,
         "type": "box",
         "x": [
          7,
          8,
          10,
          10,
          7,
          7,
          5,
          9,
          10,
          7,
          9
         ],
         "x0": " ",
         "xaxis": "x",
         "y": [
          10,
          19,
          11,
          48,
          10,
          2,
          15,
          22,
          24,
          18,
          7
         ],
         "y0": " ",
         "yaxis": "y"
        },
        {
         "alignmentgroup": "True",
         "hovertemplate": "Continental region=SOUTH AMERICA<br>month=%{x}<br>Plans measured=%{y}<extra></extra>",
         "legendgroup": "SOUTH AMERICA",
         "marker": {
          "color": "#19d3f3"
         },
         "name": "SOUTH AMERICA",
         "notched": false,
         "offsetgroup": "SOUTH AMERICA",
         "orientation": "v",
         "showlegend": true,
         "type": "box",
         "x": [
          7,
          10,
          7,
          4,
          7,
          7,
          8,
          7,
          7,
          10,
          6,
          7,
          7,
          4
         ],
         "x0": " ",
         "xaxis": "x",
         "y": [
          49,
          20,
          44,
          59,
          17,
          52,
          8,
          26,
          28,
          12,
          36,
          27,
          16,
          4
         ],
         "y0": " ",
         "yaxis": "y"
        },
        {
         "alignmentgroup": "True",
         "hovertemplate": "Continental region=CARIBBEAN<br>month=%{x}<br>Plans measured=%{y}<extra></extra>",
         "legendgroup": "CARIBBEAN",
         "marker": {
          "color": "#FF6692"
         },
         "name": "CARIBBEAN",
         "notched": false,
         "offsetgroup": "CARIBBEAN",
         "orientation": "v",
         "showlegend": true,
         "type": "box",
         "x": [
          7,
          9,
          1,
          7,
          8,
          7,
          7,
          12,
          10,
          6,
          7,
          4,
          7,
          7,
          7,
          10,
          5,
          1,
          6,
          7,
          7,
          7,
          10,
          8,
          5,
          10,
          7,
          10,
          7
         ],
         "x0": " ",
         "xaxis": "x",
         "y": [
          31,
          13,
          17,
          17,
          11,
          8,
          31,
          15,
          12,
          4,
          20,
          18,
          17,
          26,
          14,
          8,
          16,
          11,
          6,
          28,
          29,
          8,
          16,
          25,
          26,
          3,
          17,
          16,
          11
         ],
         "y0": " ",
         "yaxis": "y"
        },
        {
         "alignmentgroup": "True",
         "hovertemplate": "Continental region=EASTERN EUROPE<br>month=%{x}<br>Plans measured=%{y}<extra></extra>",
         "legendgroup": "EASTERN EUROPE",
         "marker": {
          "color": "#B6E880"
         },
         "name": "EASTERN EUROPE",
         "notched": false,
         "offsetgroup": "EASTERN EUROPE",
         "orientation": "v",
         "showlegend": true,
         "type": "box",
         "x": [
          7,
          7,
          6,
          7,
          7,
          8,
          1,
          10,
          7,
          11,
          5,
          7,
          8,
          7,
          7
         ],
         "x0": " ",
         "xaxis": "x",
         "y": [
          21,
          15,
          30,
          11,
          10,
          10,
          21,
          39,
          18,
          12,
          12,
          12,
          13,
          11,
          32
         ],
         "y0": " ",
         "yaxis": "y"
        },
        {
         "alignmentgroup": "True",
         "hovertemplate": "Continental region=SUB-SAHARAN AFRICA<br>month=%{x}<br>Plans measured=%{y}<extra></extra>",
         "legendgroup": "SUB-SAHARAN AFRICA",
         "marker": {
          "color": "#FF97FF"
         },
         "name": "SUB-SAHARAN AFRICA",
         "notched": false,
         "offsetgroup": "SUB-SAHARAN AFRICA",
         "orientation": "v",
         "showlegend": true,
         "type": "box",
         "x": [
          2,
          3,
          7,
          7,
          8,
          8,
          7,
          7,
          6,
          8,
          8,
          7,
          11,
          3,
          10,
          8,
          12,
          10,
          1,
          8,
          7,
          4,
          8,
          7,
          8,
          8,
          7,
          8,
          8,
          3,
          6,
          7,
          8,
          7,
          12,
          8,
          5,
          7,
          7,
          10,
          7,
          7,
          8,
          1,
          7,
          11,
          7,
          8,
          8,
          6
         ],
         "x0": " ",
         "xaxis": "x",
         "y": [
          41,
          55,
          20,
          10,
          25,
          6,
          17,
          36,
          20,
          33,
          43,
          9,
          9,
          27,
          56,
          35,
          51,
          56,
          49,
          40,
          38,
          31,
          6,
          8,
          22,
          18,
          15,
          28,
          24,
          34,
          46,
          33,
          22,
          17,
          40,
          11,
          43,
          12,
          22,
          55,
          24,
          21,
          19,
          24,
          15,
          58,
          19,
          26,
          4,
          23
         ],
         "y0": " ",
         "yaxis": "y"
        },
        {
         "alignmentgroup": "True",
         "hovertemplate": "Continental region=CENTRAL AMERICA<br>month=%{x}<br>Plans measured=%{y}<extra></extra>",
         "legendgroup": "CENTRAL AMERICA",
         "marker": {
          "color": "#FECB52"
         },
         "name": "CENTRAL AMERICA",
         "notched": false,
         "offsetgroup": "CENTRAL AMERICA",
         "orientation": "v",
         "showlegend": true,
         "type": "box",
         "x": [
          3,
          7,
          8,
          7,
          4,
          8,
          2,
          7
         ],
         "x0": " ",
         "xaxis": "x",
         "y": [
          21,
          16,
          35,
          35,
          12,
          25,
          59,
          26
         ],
         "y0": " ",
         "yaxis": "y"
        },
        {
         "alignmentgroup": "True",
         "hovertemplate": "Continental region=NORTHERN AFRICA<br>month=%{x}<br>Plans measured=%{y}<extra></extra>",
         "legendgroup": "NORTHERN AFRICA",
         "marker": {
          "color": "#636efa"
         },
         "name": "NORTHERN AFRICA",
         "notched": false,
         "offsetgroup": "NORTHERN AFRICA",
         "orientation": "v",
         "showlegend": true,
         "type": "box",
         "x": [
          7,
          7,
          7,
          7,
          7,
          9,
          1
         ],
         "x0": " ",
         "xaxis": "x",
         "y": [
          32,
          30,
          22,
          50,
          22,
          21,
          29
         ],
         "y0": " ",
         "yaxis": "y"
        },
        {
         "alignmentgroup": "True",
         "hovertemplate": "Continental region=BALTICS<br>month=%{x}<br>Plans measured=%{y}<extra></extra>",
         "legendgroup": "BALTICS",
         "marker": {
          "color": "#EF553B"
         },
         "name": "BALTICS",
         "notched": false,
         "offsetgroup": "BALTICS",
         "orientation": "v",
         "showlegend": true,
         "type": "box",
         "x": [
          7,
          7,
          7
         ],
         "x0": " ",
         "xaxis": "x",
         "y": [
          22,
          21,
          11
         ],
         "y0": " ",
         "yaxis": "y"
        },
        {
         "alignmentgroup": "True",
         "hovertemplate": "Continental region=NORTHERN AMERICA<br>month=%{x}<br>Plans measured=%{y}<extra></extra>",
         "legendgroup": "NORTHERN AMERICA",
         "marker": {
          "color": "#00cc96"
         },
         "name": "NORTHERN AMERICA",
         "notched": false,
         "offsetgroup": "NORTHERN AMERICA",
         "orientation": "v",
         "showlegend": true,
         "type": "box",
         "x": [
          12,
          7,
          7,
          10
         ],
         "x0": " ",
         "xaxis": "x",
         "y": [
          8,
          3,
          56,
          34
         ],
         "y0": " ",
         "yaxis": "y"
        }
       ],
       "layout": {
        "boxmode": "group",
        "legend": {
         "title": {
          "text": "Continental region"
         },
         "tracegroupgap": 0
        },
        "template": {
         "data": {
          "bar": [
           {
            "error_x": {
             "color": "#2a3f5f"
            },
            "error_y": {
             "color": "#2a3f5f"
            },
            "marker": {
             "line": {
              "color": "#E5ECF6",
              "width": 0.5
             },
             "pattern": {
              "fillmode": "overlay",
              "size": 10,
              "solidity": 0.2
             }
            },
            "type": "bar"
           }
          ],
          "barpolar": [
           {
            "marker": {
             "line": {
              "color": "#E5ECF6",
              "width": 0.5
             },
             "pattern": {
              "fillmode": "overlay",
              "size": 10,
              "solidity": 0.2
             }
            },
            "type": "barpolar"
           }
          ],
          "carpet": [
           {
            "aaxis": {
             "endlinecolor": "#2a3f5f",
             "gridcolor": "white",
             "linecolor": "white",
             "minorgridcolor": "white",
             "startlinecolor": "#2a3f5f"
            },
            "baxis": {
             "endlinecolor": "#2a3f5f",
             "gridcolor": "white",
             "linecolor": "white",
             "minorgridcolor": "white",
             "startlinecolor": "#2a3f5f"
            },
            "type": "carpet"
           }
          ],
          "choropleth": [
           {
            "colorbar": {
             "outlinewidth": 0,
             "ticks": ""
            },
            "type": "choropleth"
           }
          ],
          "contour": [
           {
            "colorbar": {
             "outlinewidth": 0,
             "ticks": ""
            },
            "colorscale": [
             [
              0,
              "#0d0887"
             ],
             [
              0.1111111111111111,
              "#46039f"
             ],
             [
              0.2222222222222222,
              "#7201a8"
             ],
             [
              0.3333333333333333,
              "#9c179e"
             ],
             [
              0.4444444444444444,
              "#bd3786"
             ],
             [
              0.5555555555555556,
              "#d8576b"
             ],
             [
              0.6666666666666666,
              "#ed7953"
             ],
             [
              0.7777777777777778,
              "#fb9f3a"
             ],
             [
              0.8888888888888888,
              "#fdca26"
             ],
             [
              1,
              "#f0f921"
             ]
            ],
            "type": "contour"
           }
          ],
          "contourcarpet": [
           {
            "colorbar": {
             "outlinewidth": 0,
             "ticks": ""
            },
            "type": "contourcarpet"
           }
          ],
          "heatmap": [
           {
            "colorbar": {
             "outlinewidth": 0,
             "ticks": ""
            },
            "colorscale": [
             [
              0,
              "#0d0887"
             ],
             [
              0.1111111111111111,
              "#46039f"
             ],
             [
              0.2222222222222222,
              "#7201a8"
             ],
             [
              0.3333333333333333,
              "#9c179e"
             ],
             [
              0.4444444444444444,
              "#bd3786"
             ],
             [
              0.5555555555555556,
              "#d8576b"
             ],
             [
              0.6666666666666666,
              "#ed7953"
             ],
             [
              0.7777777777777778,
              "#fb9f3a"
             ],
             [
              0.8888888888888888,
              "#fdca26"
             ],
             [
              1,
              "#f0f921"
             ]
            ],
            "type": "heatmap"
           }
          ],
          "heatmapgl": [
           {
            "colorbar": {
             "outlinewidth": 0,
             "ticks": ""
            },
            "colorscale": [
             [
              0,
              "#0d0887"
             ],
             [
              0.1111111111111111,
              "#46039f"
             ],
             [
              0.2222222222222222,
              "#7201a8"
             ],
             [
              0.3333333333333333,
              "#9c179e"
             ],
             [
              0.4444444444444444,
              "#bd3786"
             ],
             [
              0.5555555555555556,
              "#d8576b"
             ],
             [
              0.6666666666666666,
              "#ed7953"
             ],
             [
              0.7777777777777778,
              "#fb9f3a"
             ],
             [
              0.8888888888888888,
              "#fdca26"
             ],
             [
              1,
              "#f0f921"
             ]
            ],
            "type": "heatmapgl"
           }
          ],
          "histogram": [
           {
            "marker": {
             "pattern": {
              "fillmode": "overlay",
              "size": 10,
              "solidity": 0.2
             }
            },
            "type": "histogram"
           }
          ],
          "histogram2d": [
           {
            "colorbar": {
             "outlinewidth": 0,
             "ticks": ""
            },
            "colorscale": [
             [
              0,
              "#0d0887"
             ],
             [
              0.1111111111111111,
              "#46039f"
             ],
             [
              0.2222222222222222,
              "#7201a8"
             ],
             [
              0.3333333333333333,
              "#9c179e"
             ],
             [
              0.4444444444444444,
              "#bd3786"
             ],
             [
              0.5555555555555556,
              "#d8576b"
             ],
             [
              0.6666666666666666,
              "#ed7953"
             ],
             [
              0.7777777777777778,
              "#fb9f3a"
             ],
             [
              0.8888888888888888,
              "#fdca26"
             ],
             [
              1,
              "#f0f921"
             ]
            ],
            "type": "histogram2d"
           }
          ],
          "histogram2dcontour": [
           {
            "colorbar": {
             "outlinewidth": 0,
             "ticks": ""
            },
            "colorscale": [
             [
              0,
              "#0d0887"
             ],
             [
              0.1111111111111111,
              "#46039f"
             ],
             [
              0.2222222222222222,
              "#7201a8"
             ],
             [
              0.3333333333333333,
              "#9c179e"
             ],
             [
              0.4444444444444444,
              "#bd3786"
             ],
             [
              0.5555555555555556,
              "#d8576b"
             ],
             [
              0.6666666666666666,
              "#ed7953"
             ],
             [
              0.7777777777777778,
              "#fb9f3a"
             ],
             [
              0.8888888888888888,
              "#fdca26"
             ],
             [
              1,
              "#f0f921"
             ]
            ],
            "type": "histogram2dcontour"
           }
          ],
          "mesh3d": [
           {
            "colorbar": {
             "outlinewidth": 0,
             "ticks": ""
            },
            "type": "mesh3d"
           }
          ],
          "parcoords": [
           {
            "line": {
             "colorbar": {
              "outlinewidth": 0,
              "ticks": ""
             }
            },
            "type": "parcoords"
           }
          ],
          "pie": [
           {
            "automargin": true,
            "type": "pie"
           }
          ],
          "scatter": [
           {
            "fillpattern": {
             "fillmode": "overlay",
             "size": 10,
             "solidity": 0.2
            },
            "type": "scatter"
           }
          ],
          "scatter3d": [
           {
            "line": {
             "colorbar": {
              "outlinewidth": 0,
              "ticks": ""
             }
            },
            "marker": {
             "colorbar": {
              "outlinewidth": 0,
              "ticks": ""
             }
            },
            "type": "scatter3d"
           }
          ],
          "scattercarpet": [
           {
            "marker": {
             "colorbar": {
              "outlinewidth": 0,
              "ticks": ""
             }
            },
            "type": "scattercarpet"
           }
          ],
          "scattergeo": [
           {
            "marker": {
             "colorbar": {
              "outlinewidth": 0,
              "ticks": ""
             }
            },
            "type": "scattergeo"
           }
          ],
          "scattergl": [
           {
            "marker": {
             "colorbar": {
              "outlinewidth": 0,
              "ticks": ""
             }
            },
            "type": "scattergl"
           }
          ],
          "scattermapbox": [
           {
            "marker": {
             "colorbar": {
              "outlinewidth": 0,
              "ticks": ""
             }
            },
            "type": "scattermapbox"
           }
          ],
          "scatterpolar": [
           {
            "marker": {
             "colorbar": {
              "outlinewidth": 0,
              "ticks": ""
             }
            },
            "type": "scatterpolar"
           }
          ],
          "scatterpolargl": [
           {
            "marker": {
             "colorbar": {
              "outlinewidth": 0,
              "ticks": ""
             }
            },
            "type": "scatterpolargl"
           }
          ],
          "scatterternary": [
           {
            "marker": {
             "colorbar": {
              "outlinewidth": 0,
              "ticks": ""
             }
            },
            "type": "scatterternary"
           }
          ],
          "surface": [
           {
            "colorbar": {
             "outlinewidth": 0,
             "ticks": ""
            },
            "colorscale": [
             [
              0,
              "#0d0887"
             ],
             [
              0.1111111111111111,
              "#46039f"
             ],
             [
              0.2222222222222222,
              "#7201a8"
             ],
             [
              0.3333333333333333,
              "#9c179e"
             ],
             [
              0.4444444444444444,
              "#bd3786"
             ],
             [
              0.5555555555555556,
              "#d8576b"
             ],
             [
              0.6666666666666666,
              "#ed7953"
             ],
             [
              0.7777777777777778,
              "#fb9f3a"
             ],
             [
              0.8888888888888888,
              "#fdca26"
             ],
             [
              1,
              "#f0f921"
             ]
            ],
            "type": "surface"
           }
          ],
          "table": [
           {
            "cells": {
             "fill": {
              "color": "#EBF0F8"
             },
             "line": {
              "color": "white"
             }
            },
            "header": {
             "fill": {
              "color": "#C8D4E3"
             },
             "line": {
              "color": "white"
             }
            },
            "type": "table"
           }
          ]
         },
         "layout": {
          "annotationdefaults": {
           "arrowcolor": "#2a3f5f",
           "arrowhead": 0,
           "arrowwidth": 1
          },
          "autotypenumbers": "strict",
          "coloraxis": {
           "colorbar": {
            "outlinewidth": 0,
            "ticks": ""
           }
          },
          "colorscale": {
           "diverging": [
            [
             0,
             "#8e0152"
            ],
            [
             0.1,
             "#c51b7d"
            ],
            [
             0.2,
             "#de77ae"
            ],
            [
             0.3,
             "#f1b6da"
            ],
            [
             0.4,
             "#fde0ef"
            ],
            [
             0.5,
             "#f7f7f7"
            ],
            [
             0.6,
             "#e6f5d0"
            ],
            [
             0.7,
             "#b8e186"
            ],
            [
             0.8,
             "#7fbc41"
            ],
            [
             0.9,
             "#4d9221"
            ],
            [
             1,
             "#276419"
            ]
           ],
           "sequential": [
            [
             0,
             "#0d0887"
            ],
            [
             0.1111111111111111,
             "#46039f"
            ],
            [
             0.2222222222222222,
             "#7201a8"
            ],
            [
             0.3333333333333333,
             "#9c179e"
            ],
            [
             0.4444444444444444,
             "#bd3786"
            ],
            [
             0.5555555555555556,
             "#d8576b"
            ],
            [
             0.6666666666666666,
             "#ed7953"
            ],
            [
             0.7777777777777778,
             "#fb9f3a"
            ],
            [
             0.8888888888888888,
             "#fdca26"
            ],
            [
             1,
             "#f0f921"
            ]
           ],
           "sequentialminus": [
            [
             0,
             "#0d0887"
            ],
            [
             0.1111111111111111,
             "#46039f"
            ],
            [
             0.2222222222222222,
             "#7201a8"
            ],
            [
             0.3333333333333333,
             "#9c179e"
            ],
            [
             0.4444444444444444,
             "#bd3786"
            ],
            [
             0.5555555555555556,
             "#d8576b"
            ],
            [
             0.6666666666666666,
             "#ed7953"
            ],
            [
             0.7777777777777778,
             "#fb9f3a"
            ],
            [
             0.8888888888888888,
             "#fdca26"
            ],
            [
             1,
             "#f0f921"
            ]
           ]
          },
          "colorway": [
           "#636efa",
           "#EF553B",
           "#00cc96",
           "#ab63fa",
           "#FFA15A",
           "#19d3f3",
           "#FF6692",
           "#B6E880",
           "#FF97FF",
           "#FECB52"
          ],
          "font": {
           "color": "#2a3f5f"
          },
          "geo": {
           "bgcolor": "white",
           "lakecolor": "white",
           "landcolor": "#E5ECF6",
           "showlakes": true,
           "showland": true,
           "subunitcolor": "white"
          },
          "hoverlabel": {
           "align": "left"
          },
          "hovermode": "closest",
          "mapbox": {
           "style": "light"
          },
          "paper_bgcolor": "white",
          "plot_bgcolor": "#E5ECF6",
          "polar": {
           "angularaxis": {
            "gridcolor": "white",
            "linecolor": "white",
            "ticks": ""
           },
           "bgcolor": "#E5ECF6",
           "radialaxis": {
            "gridcolor": "white",
            "linecolor": "white",
            "ticks": ""
           }
          },
          "scene": {
           "xaxis": {
            "backgroundcolor": "#E5ECF6",
            "gridcolor": "white",
            "gridwidth": 2,
            "linecolor": "white",
            "showbackground": true,
            "ticks": "",
            "zerolinecolor": "white"
           },
           "yaxis": {
            "backgroundcolor": "#E5ECF6",
            "gridcolor": "white",
            "gridwidth": 2,
            "linecolor": "white",
            "showbackground": true,
            "ticks": "",
            "zerolinecolor": "white"
           },
           "zaxis": {
            "backgroundcolor": "#E5ECF6",
            "gridcolor": "white",
            "gridwidth": 2,
            "linecolor": "white",
            "showbackground": true,
            "ticks": "",
            "zerolinecolor": "white"
           }
          },
          "shapedefaults": {
           "line": {
            "color": "#2a3f5f"
           }
          },
          "ternary": {
           "aaxis": {
            "gridcolor": "white",
            "linecolor": "white",
            "ticks": ""
           },
           "baxis": {
            "gridcolor": "white",
            "linecolor": "white",
            "ticks": ""
           },
           "bgcolor": "#E5ECF6",
           "caxis": {
            "gridcolor": "white",
            "linecolor": "white",
            "ticks": ""
           }
          },
          "title": {
           "x": 0.05
          },
          "xaxis": {
           "automargin": true,
           "gridcolor": "white",
           "linecolor": "white",
           "ticks": "",
           "title": {
            "standoff": 15
           },
           "zerolinecolor": "white",
           "zerolinewidth": 2
          },
          "yaxis": {
           "automargin": true,
           "gridcolor": "white",
           "linecolor": "white",
           "ticks": "",
           "title": {
            "standoff": 15
           },
           "zerolinecolor": "white",
           "zerolinewidth": 2
          }
         }
        },
        "title": {
         "text": "Plans measured by month"
        },
        "xaxis": {
         "anchor": "y",
         "domain": [
          0,
          1
         ],
         "title": {
          "text": "month"
         }
        },
        "yaxis": {
         "anchor": "x",
         "domain": [
          0,
          1
         ],
         "title": {
          "text": "Plans measured"
         }
        }
       }
      }
     },
     "metadata": {},
     "output_type": "display_data"
    },
    {
     "data": {
      "application/vnd.plotly.v1+json": {
       "config": {
        "plotlyServerURL": "https://plot.ly"
       },
       "data": [
        {
         "alignmentgroup": "True",
         "hovertemplate": "Continental region=NEAR EAST<br>month=%{x}<br>Average price of 1GB (USD)=%{y}<extra></extra>",
         "legendgroup": "NEAR EAST",
         "marker": {
          "color": "#636efa"
         },
         "name": "NEAR EAST",
         "notched": false,
         "offsetgroup": "NEAR EAST",
         "orientation": "v",
         "showlegend": true,
         "type": "box",
         "x": [
          7,
          9,
          7,
          8,
          7,
          8,
          6,
          12,
          7,
          7,
          4,
          6,
          7,
          5,
          11
         ],
         "x0": " ",
         "xaxis": "x",
         "y": [
          0.02,
          0.44,
          0.52,
          0.67,
          0.76,
          1.07,
          1.08,
          1.31,
          1.49,
          1.91,
          1.95,
          2.4,
          2.41,
          4.61,
          15.68
         ],
         "y0": " ",
         "yaxis": "y"
        },
        {
         "alignmentgroup": "True",
         "hovertemplate": "Continental region=WESTERN EUROPE<br>month=%{x}<br>Average price of 1GB (USD)=%{y}<extra></extra>",
         "legendgroup": "WESTERN EUROPE",
         "marker": {
          "color": "#EF553B"
         },
         "name": "WESTERN EUROPE",
         "notched": false,
         "offsetgroup": "WESTERN EUROPE",
         "orientation": "v",
         "showlegend": true,
         "type": "box",
         "x": [
          7,
          6,
          7,
          7,
          7,
          6,
          7,
          7,
          7,
          7,
          7,
          7,
          7,
          7,
          3,
          7,
          7,
          6,
          7,
          7,
          10,
          7,
          7,
          6,
          3,
          5,
          10,
          7,
          4
         ],
         "x0": " ",
         "xaxis": "x",
         "y": [
          0.09,
          0.1,
          0.2,
          0.42,
          0.48,
          0.51,
          0.52,
          0.62,
          0.67,
          0.69,
          1.08,
          1.19,
          1.31,
          1.5,
          1.61,
          1.69,
          1.7,
          1.79,
          1.44,
          2.14,
          2.23,
          2.24,
          2.33,
          2.36,
          4.07,
          4.82,
          6.12,
          7.29,
          9
         ],
         "y0": " ",
         "yaxis": "y"
        },
        {
         "alignmentgroup": "True",
         "hovertemplate": "Continental region=OCEANIA<br>month=%{x}<br>Average price of 1GB (USD)=%{y}<extra></extra>",
         "legendgroup": "OCEANIA",
         "marker": {
          "color": "#00cc96"
         },
         "name": "OCEANIA",
         "notched": false,
         "offsetgroup": "OCEANIA",
         "orientation": "v",
         "showlegend": true,
         "type": "box",
         "x": [
          7,
          10,
          6,
          4,
          9,
          4,
          6,
          10,
          6,
          7,
          7,
          1,
          7,
          4,
          4,
          7,
          3,
          4,
          4,
          9,
          4,
          7,
          7,
          9
         ],
         "x0": " ",
         "xaxis": "x",
         "y": [
          0.09,
          0.36,
          0.44,
          0.75,
          1.19,
          1.36,
          1.5,
          1.54,
          2.25,
          2.5,
          2.62,
          2.67,
          3.03,
          3.09,
          3.14,
          3.19,
          3.76,
          5.89,
          6.08,
          6.08,
          6.39,
          6.96,
          7.11,
          17.24
         ],
         "y0": " ",
         "yaxis": "y"
        },
        {
         "alignmentgroup": "True",
         "hovertemplate": "Continental region=ASIA (EX. NEAR EAST)<br>month=%{x}<br>Average price of 1GB (USD)=%{y}<extra></extra>",
         "legendgroup": "ASIA (EX. NEAR EAST)",
         "marker": {
          "color": "#ab63fa"
         },
         "name": "ASIA (EX. NEAR EAST)",
         "notched": false,
         "offsetgroup": "ASIA (EX. NEAR EAST)",
         "orientation": "v",
         "showlegend": true,
         "type": "box",
         "x": [
          1,
          6,
          7,
          8,
          5,
          7,
          7,
          2,
          10,
          7,
          1,
          6,
          4,
          6,
          7,
          9,
          7,
          7,
          1,
          5,
          1,
          5,
          7,
          6,
          2,
          7,
          7,
          7
         ],
         "x0": " ",
         "xaxis": "x",
         "y": [
          0.12,
          0.12,
          0.16,
          0.23,
          0.25,
          0.25,
          0.28,
          0.28,
          0.29,
          0.38,
          0.38,
          0.41,
          0.43,
          0.59,
          0.63,
          0.69,
          0.71,
          0.82,
          0.99,
          1.02,
          1.44,
          1.5,
          1.89,
          1.92,
          2.16,
          3.48,
          4.44,
          5.01
         ],
         "y0": " ",
         "yaxis": "y"
        },
        {
         "alignmentgroup": "True",
         "hovertemplate": "Continental region=CIS<br>month=%{x}<br>Average price of 1GB (USD)=%{y}<extra></extra>",
         "legendgroup": "CIS",
         "marker": {
          "color": "#FFA15A"
         },
         "name": "CIS",
         "notched": false,
         "offsetgroup": "CIS",
         "orientation": "v",
         "showlegend": true,
         "type": "box",
         "x": [
          7,
          8,
          10,
          10,
          7,
          7,
          5,
          9,
          10,
          7,
          9
         ],
         "x0": " ",
         "xaxis": "x",
         "y": [
          0.17,
          0.25,
          0.27,
          0.3,
          0.41,
          0.67,
          0.98,
          1.65,
          1.76,
          1.91,
          11.42
         ],
         "y0": " ",
         "yaxis": "y"
        },
        {
         "alignmentgroup": "True",
         "hovertemplate": "Continental region=SOUTH AMERICA<br>month=%{x}<br>Average price of 1GB (USD)=%{y}<extra></extra>",
         "legendgroup": "SOUTH AMERICA",
         "marker": {
          "color": "#19d3f3"
         },
         "name": "SOUTH AMERICA",
         "notched": false,
         "offsetgroup": "SOUTH AMERICA",
         "orientation": "v",
         "showlegend": true,
         "type": "box",
         "x": [
          7,
          10,
          7,
          4,
          7,
          7,
          8,
          7,
          7,
          10,
          6,
          7,
          7,
          4
         ],
         "x0": " ",
         "xaxis": "x",
         "y": [
          0.2,
          0.28,
          0.4,
          0.45,
          0.49,
          0.64,
          0.95,
          1,
          1.04,
          1.05,
          1.11,
          1.87,
          2.36,
          40.58
         ],
         "y0": " ",
         "yaxis": "y"
        },
        {
         "alignmentgroup": "True",
         "hovertemplate": "Continental region=CARIBBEAN<br>month=%{x}<br>Average price of 1GB (USD)=%{y}<extra></extra>",
         "legendgroup": "CARIBBEAN",
         "marker": {
          "color": "#FF6692"
         },
         "name": "CARIBBEAN",
         "notched": false,
         "offsetgroup": "CARIBBEAN",
         "orientation": "v",
         "showlegend": true,
         "type": "box",
         "x": [
          7,
          9,
          1,
          7,
          8,
          7,
          7,
          12,
          10,
          6,
          7,
          4,
          7,
          7,
          7,
          10,
          5,
          1,
          6,
          7,
          7,
          7,
          10,
          8,
          5,
          10,
          7,
          10,
          7
         ],
         "x0": " ",
         "xaxis": "x",
         "y": [
          0.22,
          0.32,
          0.33,
          0.49,
          0.59,
          0.7,
          0.79,
          0.8,
          1.05,
          1.07,
          1.11,
          1.54,
          1.58,
          1.58,
          1.81,
          1.85,
          1.88,
          2.26,
          2.58,
          2.68,
          2.71,
          2.71,
          2.75,
          2.77,
          3.2,
          4.33,
          4.99,
          5.24,
          8.39
         ],
         "y0": " ",
         "yaxis": "y"
        },
        {
         "alignmentgroup": "True",
         "hovertemplate": "Continental region=EASTERN EUROPE<br>month=%{x}<br>Average price of 1GB (USD)=%{y}<extra></extra>",
         "legendgroup": "EASTERN EUROPE",
         "marker": {
          "color": "#B6E880"
         },
         "name": "EASTERN EUROPE",
         "notched": false,
         "offsetgroup": "EASTERN EUROPE",
         "orientation": "v",
         "showlegend": true,
         "type": "box",
         "x": [
          7,
          7,
          6,
          7,
          7,
          8,
          1,
          10,
          7,
          11,
          5,
          7,
          8,
          7,
          7
         ],
         "x0": " ",
         "xaxis": "x",
         "y": [
          0.28,
          0.32,
          0.37,
          0.54,
          0.58,
          0.84,
          0.86,
          1.03,
          1.19,
          1.25,
          1.55,
          1.71,
          2.68,
          2.79,
          3.12
         ],
         "y0": " ",
         "yaxis": "y"
        },
        {
         "alignmentgroup": "True",
         "hovertemplate": "Continental region=SUB-SAHARAN AFRICA<br>month=%{x}<br>Average price of 1GB (USD)=%{y}<extra></extra>",
         "legendgroup": "SUB-SAHARAN AFRICA",
         "marker": {
          "color": "#FF97FF"
         },
         "name": "SUB-SAHARAN AFRICA",
         "notched": false,
         "offsetgroup": "SUB-SAHARAN AFRICA",
         "orientation": "v",
         "showlegend": true,
         "type": "box",
         "x": [
          2,
          3,
          7,
          7,
          8,
          8,
          7,
          7,
          6,
          8,
          8,
          7,
          11,
          3,
          10,
          8,
          12,
          10,
          1,
          8,
          7,
          4,
          8,
          7,
          8,
          8,
          7,
          8,
          8,
          3,
          6,
          7,
          8,
          7,
          12,
          8,
          5,
          7,
          7,
          10,
          7,
          7,
          8,
          1,
          7,
          11,
          7,
          8,
          8,
          6
         ],
         "x0": " ",
         "xaxis": "x",
         "y": [
          0.38,
          0.39,
          0.4,
          0.48,
          0.5,
          0.52,
          0.55,
          0.59,
          0.67,
          0.67,
          0.68,
          0.68,
          0.71,
          0.78,
          0.84,
          1.01,
          1.1,
          1.11,
          1.12,
          1.16,
          1.18,
          1.2,
          1.26,
          1.26,
          1.45,
          1.51,
          1.59,
          1.63,
          1.63,
          1.63,
          1.81,
          1.96,
          1.99,
          2.18,
          2.37,
          2.41,
          2.5,
          2.72,
          3.24,
          3.27,
          3.56,
          4.09,
          4.09,
          4.56,
          5.43,
          8.01,
          10.9,
          23.7,
          40.13,
          43.75
         ],
         "y0": " ",
         "yaxis": "y"
        },
        {
         "alignmentgroup": "True",
         "hovertemplate": "Continental region=CENTRAL AMERICA<br>month=%{x}<br>Average price of 1GB (USD)=%{y}<extra></extra>",
         "legendgroup": "CENTRAL AMERICA",
         "marker": {
          "color": "#FECB52"
         },
         "name": "CENTRAL AMERICA",
         "notched": false,
         "offsetgroup": "CENTRAL AMERICA",
         "orientation": "v",
         "showlegend": true,
         "type": "box",
         "x": [
          3,
          7,
          8,
          7,
          4,
          8,
          2,
          7
         ],
         "x0": " ",
         "xaxis": "x",
         "y": [
          0.55,
          0.78,
          1.08,
          1.17,
          1.63,
          1.86,
          2.03,
          2.92
         ],
         "y0": " ",
         "yaxis": "y"
        },
        {
         "alignmentgroup": "True",
         "hovertemplate": "Continental region=NORTHERN AFRICA<br>month=%{x}<br>Average price of 1GB (USD)=%{y}<extra></extra>",
         "legendgroup": "NORTHERN AFRICA",
         "marker": {
          "color": "#636efa"
         },
         "name": "NORTHERN AFRICA",
         "notched": false,
         "offsetgroup": "NORTHERN AFRICA",
         "orientation": "v",
         "showlegend": true,
         "type": "box",
         "x": [
          7,
          7,
          7,
          7,
          7,
          9,
          1
         ],
         "x0": " ",
         "xaxis": "x",
         "y": [
          0.58,
          0.63,
          0.65,
          0.73,
          0.82,
          1.28,
          1.32
         ],
         "y0": " ",
         "yaxis": "y"
        },
        {
         "alignmentgroup": "True",
         "hovertemplate": "Continental region=BALTICS<br>month=%{x}<br>Average price of 1GB (USD)=%{y}<extra></extra>",
         "legendgroup": "BALTICS",
         "marker": {
          "color": "#EF553B"
         },
         "name": "BALTICS",
         "notched": false,
         "offsetgroup": "BALTICS",
         "orientation": "v",
         "showlegend": true,
         "type": "box",
         "x": [
          7,
          7,
          7
         ],
         "x0": " ",
         "xaxis": "x",
         "y": [
          1.15,
          1.26,
          3.21
         ],
         "y0": " ",
         "yaxis": "y"
        },
        {
         "alignmentgroup": "True",
         "hovertemplate": "Continental region=NORTHERN AMERICA<br>month=%{x}<br>Average price of 1GB (USD)=%{y}<extra></extra>",
         "legendgroup": "NORTHERN AMERICA",
         "marker": {
          "color": "#00cc96"
         },
         "name": "NORTHERN AMERICA",
         "notched": false,
         "offsetgroup": "NORTHERN AMERICA",
         "orientation": "v",
         "showlegend": true,
         "type": "box",
         "x": [
          12,
          7,
          7,
          10
         ],
         "x0": " ",
         "xaxis": "x",
         "y": [
          3.42,
          3.58,
          5.37,
          6
         ],
         "y0": " ",
         "yaxis": "y"
        }
       ],
       "layout": {
        "boxmode": "group",
        "legend": {
         "title": {
          "text": "Continental region"
         },
         "tracegroupgap": 0
        },
        "template": {
         "data": {
          "bar": [
           {
            "error_x": {
             "color": "#2a3f5f"
            },
            "error_y": {
             "color": "#2a3f5f"
            },
            "marker": {
             "line": {
              "color": "#E5ECF6",
              "width": 0.5
             },
             "pattern": {
              "fillmode": "overlay",
              "size": 10,
              "solidity": 0.2
             }
            },
            "type": "bar"
           }
          ],
          "barpolar": [
           {
            "marker": {
             "line": {
              "color": "#E5ECF6",
              "width": 0.5
             },
             "pattern": {
              "fillmode": "overlay",
              "size": 10,
              "solidity": 0.2
             }
            },
            "type": "barpolar"
           }
          ],
          "carpet": [
           {
            "aaxis": {
             "endlinecolor": "#2a3f5f",
             "gridcolor": "white",
             "linecolor": "white",
             "minorgridcolor": "white",
             "startlinecolor": "#2a3f5f"
            },
            "baxis": {
             "endlinecolor": "#2a3f5f",
             "gridcolor": "white",
             "linecolor": "white",
             "minorgridcolor": "white",
             "startlinecolor": "#2a3f5f"
            },
            "type": "carpet"
           }
          ],
          "choropleth": [
           {
            "colorbar": {
             "outlinewidth": 0,
             "ticks": ""
            },
            "type": "choropleth"
           }
          ],
          "contour": [
           {
            "colorbar": {
             "outlinewidth": 0,
             "ticks": ""
            },
            "colorscale": [
             [
              0,
              "#0d0887"
             ],
             [
              0.1111111111111111,
              "#46039f"
             ],
             [
              0.2222222222222222,
              "#7201a8"
             ],
             [
              0.3333333333333333,
              "#9c179e"
             ],
             [
              0.4444444444444444,
              "#bd3786"
             ],
             [
              0.5555555555555556,
              "#d8576b"
             ],
             [
              0.6666666666666666,
              "#ed7953"
             ],
             [
              0.7777777777777778,
              "#fb9f3a"
             ],
             [
              0.8888888888888888,
              "#fdca26"
             ],
             [
              1,
              "#f0f921"
             ]
            ],
            "type": "contour"
           }
          ],
          "contourcarpet": [
           {
            "colorbar": {
             "outlinewidth": 0,
             "ticks": ""
            },
            "type": "contourcarpet"
           }
          ],
          "heatmap": [
           {
            "colorbar": {
             "outlinewidth": 0,
             "ticks": ""
            },
            "colorscale": [
             [
              0,
              "#0d0887"
             ],
             [
              0.1111111111111111,
              "#46039f"
             ],
             [
              0.2222222222222222,
              "#7201a8"
             ],
             [
              0.3333333333333333,
              "#9c179e"
             ],
             [
              0.4444444444444444,
              "#bd3786"
             ],
             [
              0.5555555555555556,
              "#d8576b"
             ],
             [
              0.6666666666666666,
              "#ed7953"
             ],
             [
              0.7777777777777778,
              "#fb9f3a"
             ],
             [
              0.8888888888888888,
              "#fdca26"
             ],
             [
              1,
              "#f0f921"
             ]
            ],
            "type": "heatmap"
           }
          ],
          "heatmapgl": [
           {
            "colorbar": {
             "outlinewidth": 0,
             "ticks": ""
            },
            "colorscale": [
             [
              0,
              "#0d0887"
             ],
             [
              0.1111111111111111,
              "#46039f"
             ],
             [
              0.2222222222222222,
              "#7201a8"
             ],
             [
              0.3333333333333333,
              "#9c179e"
             ],
             [
              0.4444444444444444,
              "#bd3786"
             ],
             [
              0.5555555555555556,
              "#d8576b"
             ],
             [
              0.6666666666666666,
              "#ed7953"
             ],
             [
              0.7777777777777778,
              "#fb9f3a"
             ],
             [
              0.8888888888888888,
              "#fdca26"
             ],
             [
              1,
              "#f0f921"
             ]
            ],
            "type": "heatmapgl"
           }
          ],
          "histogram": [
           {
            "marker": {
             "pattern": {
              "fillmode": "overlay",
              "size": 10,
              "solidity": 0.2
             }
            },
            "type": "histogram"
           }
          ],
          "histogram2d": [
           {
            "colorbar": {
             "outlinewidth": 0,
             "ticks": ""
            },
            "colorscale": [
             [
              0,
              "#0d0887"
             ],
             [
              0.1111111111111111,
              "#46039f"
             ],
             [
              0.2222222222222222,
              "#7201a8"
             ],
             [
              0.3333333333333333,
              "#9c179e"
             ],
             [
              0.4444444444444444,
              "#bd3786"
             ],
             [
              0.5555555555555556,
              "#d8576b"
             ],
             [
              0.6666666666666666,
              "#ed7953"
             ],
             [
              0.7777777777777778,
              "#fb9f3a"
             ],
             [
              0.8888888888888888,
              "#fdca26"
             ],
             [
              1,
              "#f0f921"
             ]
            ],
            "type": "histogram2d"
           }
          ],
          "histogram2dcontour": [
           {
            "colorbar": {
             "outlinewidth": 0,
             "ticks": ""
            },
            "colorscale": [
             [
              0,
              "#0d0887"
             ],
             [
              0.1111111111111111,
              "#46039f"
             ],
             [
              0.2222222222222222,
              "#7201a8"
             ],
             [
              0.3333333333333333,
              "#9c179e"
             ],
             [
              0.4444444444444444,
              "#bd3786"
             ],
             [
              0.5555555555555556,
              "#d8576b"
             ],
             [
              0.6666666666666666,
              "#ed7953"
             ],
             [
              0.7777777777777778,
              "#fb9f3a"
             ],
             [
              0.8888888888888888,
              "#fdca26"
             ],
             [
              1,
              "#f0f921"
             ]
            ],
            "type": "histogram2dcontour"
           }
          ],
          "mesh3d": [
           {
            "colorbar": {
             "outlinewidth": 0,
             "ticks": ""
            },
            "type": "mesh3d"
           }
          ],
          "parcoords": [
           {
            "line": {
             "colorbar": {
              "outlinewidth": 0,
              "ticks": ""
             }
            },
            "type": "parcoords"
           }
          ],
          "pie": [
           {
            "automargin": true,
            "type": "pie"
           }
          ],
          "scatter": [
           {
            "fillpattern": {
             "fillmode": "overlay",
             "size": 10,
             "solidity": 0.2
            },
            "type": "scatter"
           }
          ],
          "scatter3d": [
           {
            "line": {
             "colorbar": {
              "outlinewidth": 0,
              "ticks": ""
             }
            },
            "marker": {
             "colorbar": {
              "outlinewidth": 0,
              "ticks": ""
             }
            },
            "type": "scatter3d"
           }
          ],
          "scattercarpet": [
           {
            "marker": {
             "colorbar": {
              "outlinewidth": 0,
              "ticks": ""
             }
            },
            "type": "scattercarpet"
           }
          ],
          "scattergeo": [
           {
            "marker": {
             "colorbar": {
              "outlinewidth": 0,
              "ticks": ""
             }
            },
            "type": "scattergeo"
           }
          ],
          "scattergl": [
           {
            "marker": {
             "colorbar": {
              "outlinewidth": 0,
              "ticks": ""
             }
            },
            "type": "scattergl"
           }
          ],
          "scattermapbox": [
           {
            "marker": {
             "colorbar": {
              "outlinewidth": 0,
              "ticks": ""
             }
            },
            "type": "scattermapbox"
           }
          ],
          "scatterpolar": [
           {
            "marker": {
             "colorbar": {
              "outlinewidth": 0,
              "ticks": ""
             }
            },
            "type": "scatterpolar"
           }
          ],
          "scatterpolargl": [
           {
            "marker": {
             "colorbar": {
              "outlinewidth": 0,
              "ticks": ""
             }
            },
            "type": "scatterpolargl"
           }
          ],
          "scatterternary": [
           {
            "marker": {
             "colorbar": {
              "outlinewidth": 0,
              "ticks": ""
             }
            },
            "type": "scatterternary"
           }
          ],
          "surface": [
           {
            "colorbar": {
             "outlinewidth": 0,
             "ticks": ""
            },
            "colorscale": [
             [
              0,
              "#0d0887"
             ],
             [
              0.1111111111111111,
              "#46039f"
             ],
             [
              0.2222222222222222,
              "#7201a8"
             ],
             [
              0.3333333333333333,
              "#9c179e"
             ],
             [
              0.4444444444444444,
              "#bd3786"
             ],
             [
              0.5555555555555556,
              "#d8576b"
             ],
             [
              0.6666666666666666,
              "#ed7953"
             ],
             [
              0.7777777777777778,
              "#fb9f3a"
             ],
             [
              0.8888888888888888,
              "#fdca26"
             ],
             [
              1,
              "#f0f921"
             ]
            ],
            "type": "surface"
           }
          ],
          "table": [
           {
            "cells": {
             "fill": {
              "color": "#EBF0F8"
             },
             "line": {
              "color": "white"
             }
            },
            "header": {
             "fill": {
              "color": "#C8D4E3"
             },
             "line": {
              "color": "white"
             }
            },
            "type": "table"
           }
          ]
         },
         "layout": {
          "annotationdefaults": {
           "arrowcolor": "#2a3f5f",
           "arrowhead": 0,
           "arrowwidth": 1
          },
          "autotypenumbers": "strict",
          "coloraxis": {
           "colorbar": {
            "outlinewidth": 0,
            "ticks": ""
           }
          },
          "colorscale": {
           "diverging": [
            [
             0,
             "#8e0152"
            ],
            [
             0.1,
             "#c51b7d"
            ],
            [
             0.2,
             "#de77ae"
            ],
            [
             0.3,
             "#f1b6da"
            ],
            [
             0.4,
             "#fde0ef"
            ],
            [
             0.5,
             "#f7f7f7"
            ],
            [
             0.6,
             "#e6f5d0"
            ],
            [
             0.7,
             "#b8e186"
            ],
            [
             0.8,
             "#7fbc41"
            ],
            [
             0.9,
             "#4d9221"
            ],
            [
             1,
             "#276419"
            ]
           ],
           "sequential": [
            [
             0,
             "#0d0887"
            ],
            [
             0.1111111111111111,
             "#46039f"
            ],
            [
             0.2222222222222222,
             "#7201a8"
            ],
            [
             0.3333333333333333,
             "#9c179e"
            ],
            [
             0.4444444444444444,
             "#bd3786"
            ],
            [
             0.5555555555555556,
             "#d8576b"
            ],
            [
             0.6666666666666666,
             "#ed7953"
            ],
            [
             0.7777777777777778,
             "#fb9f3a"
            ],
            [
             0.8888888888888888,
             "#fdca26"
            ],
            [
             1,
             "#f0f921"
            ]
           ],
           "sequentialminus": [
            [
             0,
             "#0d0887"
            ],
            [
             0.1111111111111111,
             "#46039f"
            ],
            [
             0.2222222222222222,
             "#7201a8"
            ],
            [
             0.3333333333333333,
             "#9c179e"
            ],
            [
             0.4444444444444444,
             "#bd3786"
            ],
            [
             0.5555555555555556,
             "#d8576b"
            ],
            [
             0.6666666666666666,
             "#ed7953"
            ],
            [
             0.7777777777777778,
             "#fb9f3a"
            ],
            [
             0.8888888888888888,
             "#fdca26"
            ],
            [
             1,
             "#f0f921"
            ]
           ]
          },
          "colorway": [
           "#636efa",
           "#EF553B",
           "#00cc96",
           "#ab63fa",
           "#FFA15A",
           "#19d3f3",
           "#FF6692",
           "#B6E880",
           "#FF97FF",
           "#FECB52"
          ],
          "font": {
           "color": "#2a3f5f"
          },
          "geo": {
           "bgcolor": "white",
           "lakecolor": "white",
           "landcolor": "#E5ECF6",
           "showlakes": true,
           "showland": true,
           "subunitcolor": "white"
          },
          "hoverlabel": {
           "align": "left"
          },
          "hovermode": "closest",
          "mapbox": {
           "style": "light"
          },
          "paper_bgcolor": "white",
          "plot_bgcolor": "#E5ECF6",
          "polar": {
           "angularaxis": {
            "gridcolor": "white",
            "linecolor": "white",
            "ticks": ""
           },
           "bgcolor": "#E5ECF6",
           "radialaxis": {
            "gridcolor": "white",
            "linecolor": "white",
            "ticks": ""
           }
          },
          "scene": {
           "xaxis": {
            "backgroundcolor": "#E5ECF6",
            "gridcolor": "white",
            "gridwidth": 2,
            "linecolor": "white",
            "showbackground": true,
            "ticks": "",
            "zerolinecolor": "white"
           },
           "yaxis": {
            "backgroundcolor": "#E5ECF6",
            "gridcolor": "white",
            "gridwidth": 2,
            "linecolor": "white",
            "showbackground": true,
            "ticks": "",
            "zerolinecolor": "white"
           },
           "zaxis": {
            "backgroundcolor": "#E5ECF6",
            "gridcolor": "white",
            "gridwidth": 2,
            "linecolor": "white",
            "showbackground": true,
            "ticks": "",
            "zerolinecolor": "white"
           }
          },
          "shapedefaults": {
           "line": {
            "color": "#2a3f5f"
           }
          },
          "ternary": {
           "aaxis": {
            "gridcolor": "white",
            "linecolor": "white",
            "ticks": ""
           },
           "baxis": {
            "gridcolor": "white",
            "linecolor": "white",
            "ticks": ""
           },
           "bgcolor": "#E5ECF6",
           "caxis": {
            "gridcolor": "white",
            "linecolor": "white",
            "ticks": ""
           }
          },
          "title": {
           "x": 0.05
          },
          "xaxis": {
           "automargin": true,
           "gridcolor": "white",
           "linecolor": "white",
           "ticks": "",
           "title": {
            "standoff": 15
           },
           "zerolinecolor": "white",
           "zerolinewidth": 2
          },
          "yaxis": {
           "automargin": true,
           "gridcolor": "white",
           "linecolor": "white",
           "ticks": "",
           "title": {
            "standoff": 15
           },
           "zerolinecolor": "white",
           "zerolinewidth": 2
          }
         }
        },
        "title": {
         "text": "Average price of 1GB by month"
        },
        "xaxis": {
         "anchor": "y",
         "domain": [
          0,
          1
         ],
         "title": {
          "text": "month"
         }
        },
        "yaxis": {
         "anchor": "x",
         "domain": [
          0,
          1
         ],
         "title": {
          "text": "Average price of 1GB (USD)"
         }
        }
       }
      }
     },
     "metadata": {},
     "output_type": "display_data"
    }
   ],
   "source": [
    "# Gráfica de cajas para 'Plans measured'\n",
    "fig1 = px.box(df, x=\"month\", y=\"Plans measured\", color=\"Continental region\", \n",
    "               title=\"Plans measured by month\")\n",
    "fig1.show()\n",
    "\n",
    "# Gráfica de cajas para 'Average price of 1GB (local currency)'\n",
    "fig2 = px.box(df, x=\"month\", y=\"Average price of 1GB (USD)\", color=\"Continental region\", \n",
    "               title=\"Average price of 1GB by month\")\n",
    "fig2.show()"
   ]
  },
  {
   "cell_type": "markdown",
   "metadata": {},
   "source": [
    "**Average price of 1GB (USD)**"
   ]
  },
  {
   "cell_type": "code",
   "execution_count": 99,
   "metadata": {},
   "outputs": [],
   "source": [
    "#df_region = df.loc[df['Currency'] == 'EUR', ['Continental region', 'Average price of 1GB (USD)','year', 'month']]\n",
    "df_region = df[['Continental region', 'Average price of 1GB (USD)','year', 'month']]\n",
    "df_region_max=df_region.groupby('Continental region')['Average price of 1GB (USD)'].max()\n",
    "df_region_min=df_region.groupby('Continental region')['Average price of 1GB (USD)'].min()"
   ]
  },
  {
   "cell_type": "code",
   "execution_count": 100,
   "metadata": {},
   "outputs": [
    {
     "name": "stdout",
     "output_type": "stream",
     "text": [
      "(13, 2)\n",
      "(13, 2)\n"
     ]
    },
    {
     "data": {
      "text/html": [
       "<div>\n",
       "<style scoped>\n",
       "    .dataframe tbody tr th:only-of-type {\n",
       "        vertical-align: middle;\n",
       "    }\n",
       "\n",
       "    .dataframe tbody tr th {\n",
       "        vertical-align: top;\n",
       "    }\n",
       "\n",
       "    .dataframe thead th {\n",
       "        text-align: right;\n",
       "    }\n",
       "</style>\n",
       "<table border=\"1\" class=\"dataframe\">\n",
       "  <thead>\n",
       "    <tr style=\"text-align: right;\">\n",
       "      <th></th>\n",
       "      <th>Continental region</th>\n",
       "      <th>Min price</th>\n",
       "      <th>Max price</th>\n",
       "    </tr>\n",
       "  </thead>\n",
       "  <tbody>\n",
       "    <tr>\n",
       "      <th>0</th>\n",
       "      <td>ASIA (EX. NEAR EAST)</td>\n",
       "      <td>0.12</td>\n",
       "      <td>5.01</td>\n",
       "    </tr>\n",
       "    <tr>\n",
       "      <th>1</th>\n",
       "      <td>BALTICS</td>\n",
       "      <td>1.15</td>\n",
       "      <td>3.21</td>\n",
       "    </tr>\n",
       "    <tr>\n",
       "      <th>2</th>\n",
       "      <td>CARIBBEAN</td>\n",
       "      <td>0.22</td>\n",
       "      <td>8.39</td>\n",
       "    </tr>\n",
       "    <tr>\n",
       "      <th>3</th>\n",
       "      <td>CENTRAL AMERICA</td>\n",
       "      <td>0.55</td>\n",
       "      <td>2.92</td>\n",
       "    </tr>\n",
       "    <tr>\n",
       "      <th>4</th>\n",
       "      <td>CIS</td>\n",
       "      <td>0.17</td>\n",
       "      <td>11.42</td>\n",
       "    </tr>\n",
       "  </tbody>\n",
       "</table>\n",
       "</div>"
      ],
      "text/plain": [
       "     Continental region  Min price  Max price\n",
       "0  ASIA (EX. NEAR EAST)       0.12       5.01\n",
       "1               BALTICS       1.15       3.21\n",
       "2             CARIBBEAN       0.22       8.39\n",
       "3       CENTRAL AMERICA       0.55       2.92\n",
       "4                   CIS       0.17      11.42"
      ]
     },
     "execution_count": 100,
     "metadata": {},
     "output_type": "execute_result"
    }
   ],
   "source": [
    "df_region_max = pd.DataFrame(df_region_max)\n",
    "df_region_min = pd.DataFrame(df_region_min)\n",
    "\n",
    "# Asignar el resultado del método rename() de nuevo al DataFrame original\n",
    "df_region_max = df_region_max.rename(columns={'Average price of 1GB (USD)': 'Max price'})\n",
    "df_region_min = df_region_min.rename(columns={'Average price of 1GB (USD)': 'Min price'})\n",
    "\n",
    "df_region_max.reset_index(inplace=True)\n",
    "df_region_min.reset_index(inplace=True)\n",
    "\n",
    "print(df_region_max.shape)\n",
    "print(df_region_min.shape)\n",
    "\n",
    "df_inner_join = pd.merge(df_region_min, df_region_max, on=['Continental region'], how='inner')\n",
    "df_inner_join.head()"
   ]
  },
  {
   "cell_type": "code",
   "execution_count": 104,
   "metadata": {},
   "outputs": [
    {
     "data": {
      "image/png": "[encoded data removed]",
      "text/plain": [
       "<Figure size 1000x800 with 1 Axes>"
      ]
     },
     "metadata": {},
     "output_type": "display_data"
    }
   ],
   "source": [
    "# Reorganizar el DataFrame para que tenga una columna para el precio y otra para el tipo de precio\n",
    "df_inner_join_melt = pd.melt(df_inner_join, id_vars=['Continental region'], value_vars=['Min price', 'Max price'], var_name='Price type', value_name='Price')\n",
    "\n",
    "# Graficar el gráfico de barras\n",
    "plt.figure(figsize=(10,8))\n",
    "sns.barplot(data=df_inner_join_melt, x='Continental region', y='Price', hue='Price type')\n",
    "plt.title('Continental region Average price of 1GB (USD) by max or min')\n",
    "plt.xticks(rotation='vertical')\n",
    "plt.show()"
   ]
  },
  {
   "cell_type": "code",
   "execution_count": 103,
   "metadata": {},
   "outputs": [
    {
     "data": {
      "application/vnd.plotly.v1+json": {
       "config": {
        "plotlyServerURL": "https://plot.ly"
       },
       "data": [
        {
         "alignmentgroup": "True",
         "hovertemplate": "Price type=Min price<br>Continental region=%{x}<br>Price=%{y}<extra></extra>",
         "legendgroup": "Min price",
         "marker": {
          "color": "#636efa",
          "pattern": {
           "shape": ""
          }
         },
         "name": "Min price",
         "offsetgroup": "Min price",
         "orientation": "v",
         "showlegend": true,
         "textposition": "auto",
         "type": "bar",
         "x": [
          "ASIA (EX. NEAR EAST)",
          "BALTICS",
          "CARIBBEAN",
          "CENTRAL AMERICA",
          "CIS",
          "EASTERN EUROPE",
          "NEAR EAST",
          "NORTHERN AFRICA",
          "NORTHERN AMERICA",
          "OCEANIA",
          "SOUTH AMERICA",
          "SUB-SAHARAN AFRICA",
          "WESTERN EUROPE"
         ],
         "xaxis": "x",
         "y": [
          0.12,
          1.15,
          0.22,
          0.55,
          0.17,
          0.28,
          0.02,
          0.58,
          3.42,
          0.09,
          0.2,
          0.38,
          0.09
         ],
         "yaxis": "y"
        },
        {
         "alignmentgroup": "True",
         "hovertemplate": "Price type=Max price<br>Continental region=%{x}<br>Price=%{y}<extra></extra>",
         "legendgroup": "Max price",
         "marker": {
          "color": "#EF553B",
          "pattern": {
           "shape": ""
          }
         },
         "name": "Max price",
         "offsetgroup": "Max price",
         "orientation": "v",
         "showlegend": true,
         "textposition": "auto",
         "type": "bar",
         "x": [
          "ASIA (EX. NEAR EAST)",
          "BALTICS",
          "CARIBBEAN",
          "CENTRAL AMERICA",
          "CIS",
          "EASTERN EUROPE",
          "NEAR EAST",
          "NORTHERN AFRICA",
          "NORTHERN AMERICA",
          "OCEANIA",
          "SOUTH AMERICA",
          "SUB-SAHARAN AFRICA",
          "WESTERN EUROPE"
         ],
         "xaxis": "x",
         "y": [
          5.01,
          3.21,
          8.39,
          2.92,
          11.42,
          3.12,
          15.68,
          1.32,
          6,
          17.24,
          40.58,
          43.75,
          9
         ],
         "yaxis": "y"
        }
       ],
       "layout": {
        "barmode": "relative",
        "legend": {
         "title": {
          "text": "Price type"
         },
         "tracegroupgap": 0
        },
        "template": {
         "data": {
          "bar": [
           {
            "error_x": {
             "color": "#2a3f5f"
            },
            "error_y": {
             "color": "#2a3f5f"
            },
            "marker": {
             "line": {
              "color": "#E5ECF6",
              "width": 0.5
             },
             "pattern": {
              "fillmode": "overlay",
              "size": 10,
              "solidity": 0.2
             }
            },
            "type": "bar"
           }
          ],
          "barpolar": [
           {
            "marker": {
             "line": {
              "color": "#E5ECF6",
              "width": 0.5
             },
             "pattern": {
              "fillmode": "overlay",
              "size": 10,
              "solidity": 0.2
             }
            },
            "type": "barpolar"
           }
          ],
          "carpet": [
           {
            "aaxis": {
             "endlinecolor": "#2a3f5f",
             "gridcolor": "white",
             "linecolor": "white",
             "minorgridcolor": "white",
             "startlinecolor": "#2a3f5f"
            },
            "baxis": {
             "endlinecolor": "#2a3f5f",
             "gridcolor": "white",
             "linecolor": "white",
             "minorgridcolor": "white",
             "startlinecolor": "#2a3f5f"
            },
            "type": "carpet"
           }
          ],
          "choropleth": [
           {
            "colorbar": {
             "outlinewidth": 0,
             "ticks": ""
            },
            "type": "choropleth"
           }
          ],
          "contour": [
           {
            "colorbar": {
             "outlinewidth": 0,
             "ticks": ""
            },
            "colorscale": [
             [
              0,
              "#0d0887"
             ],
             [
              0.1111111111111111,
              "#46039f"
             ],
             [
              0.2222222222222222,
              "#7201a8"
             ],
             [
              0.3333333333333333,
              "#9c179e"
             ],
             [
              0.4444444444444444,
              "#bd3786"
             ],
             [
              0.5555555555555556,
              "#d8576b"
             ],
             [
              0.6666666666666666,
              "#ed7953"
             ],
             [
              0.7777777777777778,
              "#fb9f3a"
             ],
             [
              0.8888888888888888,
              "#fdca26"
             ],
             [
              1,
              "#f0f921"
             ]
            ],
            "type": "contour"
           }
          ],
          "contourcarpet": [
           {
            "colorbar": {
             "outlinewidth": 0,
             "ticks": ""
            },
            "type": "contourcarpet"
           }
          ],
          "heatmap": [
           {
            "colorbar": {
             "outlinewidth": 0,
             "ticks": ""
            },
            "colorscale": [
             [
              0,
              "#0d0887"
             ],
             [
              0.1111111111111111,
              "#46039f"
             ],
             [
              0.2222222222222222,
              "#7201a8"
             ],
             [
              0.3333333333333333,
              "#9c179e"
             ],
             [
              0.4444444444444444,
              "#bd3786"
             ],
             [
              0.5555555555555556,
              "#d8576b"
             ],
             [
              0.6666666666666666,
              "#ed7953"
             ],
             [
              0.7777777777777778,
              "#fb9f3a"
             ],
             [
              0.8888888888888888,
              "#fdca26"
             ],
             [
              1,
              "#f0f921"
             ]
            ],
            "type": "heatmap"
           }
          ],
          "heatmapgl": [
           {
            "colorbar": {
             "outlinewidth": 0,
             "ticks": ""
            },
            "colorscale": [
             [
              0,
              "#0d0887"
             ],
             [
              0.1111111111111111,
              "#46039f"
             ],
             [
              0.2222222222222222,
              "#7201a8"
             ],
             [
              0.3333333333333333,
              "#9c179e"
             ],
             [
              0.4444444444444444,
              "#bd3786"
             ],
             [
              0.5555555555555556,
              "#d8576b"
             ],
             [
              0.6666666666666666,
              "#ed7953"
             ],
             [
              0.7777777777777778,
              "#fb9f3a"
             ],
             [
              0.8888888888888888,
              "#fdca26"
             ],
             [
              1,
              "#f0f921"
             ]
            ],
            "type": "heatmapgl"
           }
          ],
          "histogram": [
           {
            "marker": {
             "pattern": {
              "fillmode": "overlay",
              "size": 10,
              "solidity": 0.2
             }
            },
            "type": "histogram"
           }
          ],
          "histogram2d": [
           {
            "colorbar": {
             "outlinewidth": 0,
             "ticks": ""
            },
            "colorscale": [
             [
              0,
              "#0d0887"
             ],
             [
              0.1111111111111111,
              "#46039f"
             ],
             [
              0.2222222222222222,
              "#7201a8"
             ],
             [
              0.3333333333333333,
              "#9c179e"
             ],
             [
              0.4444444444444444,
              "#bd3786"
             ],
             [
              0.5555555555555556,
              "#d8576b"
             ],
             [
              0.6666666666666666,
              "#ed7953"
             ],
             [
              0.7777777777777778,
              "#fb9f3a"
             ],
             [
              0.8888888888888888,
              "#fdca26"
             ],
             [
              1,
              "#f0f921"
             ]
            ],
            "type": "histogram2d"
           }
          ],
          "histogram2dcontour": [
           {
            "colorbar": {
             "outlinewidth": 0,
             "ticks": ""
            },
            "colorscale": [
             [
              0,
              "#0d0887"
             ],
             [
              0.1111111111111111,
              "#46039f"
             ],
             [
              0.2222222222222222,
              "#7201a8"
             ],
             [
              0.3333333333333333,
              "#9c179e"
             ],
             [
              0.4444444444444444,
              "#bd3786"
             ],
             [
              0.5555555555555556,
              "#d8576b"
             ],
             [
              0.6666666666666666,
              "#ed7953"
             ],
             [
              0.7777777777777778,
              "#fb9f3a"
             ],
             [
              0.8888888888888888,
              "#fdca26"
             ],
             [
              1,
              "#f0f921"
             ]
            ],
            "type": "histogram2dcontour"
           }
          ],
          "mesh3d": [
           {
            "colorbar": {
             "outlinewidth": 0,
             "ticks": ""
            },
            "type": "mesh3d"
           }
          ],
          "parcoords": [
           {
            "line": {
             "colorbar": {
              "outlinewidth": 0,
              "ticks": ""
             }
            },
            "type": "parcoords"
           }
          ],
          "pie": [
           {
            "automargin": true,
            "type": "pie"
           }
          ],
          "scatter": [
           {
            "fillpattern": {
             "fillmode": "overlay",
             "size": 10,
             "solidity": 0.2
            },
            "type": "scatter"
           }
          ],
          "scatter3d": [
           {
            "line": {
             "colorbar": {
              "outlinewidth": 0,
              "ticks": ""
             }
            },
            "marker": {
             "colorbar": {
              "outlinewidth": 0,
              "ticks": ""
             }
            },
            "type": "scatter3d"
           }
          ],
          "scattercarpet": [
           {
            "marker": {
             "colorbar": {
              "outlinewidth": 0,
              "ticks": ""
             }
            },
            "type": "scattercarpet"
           }
          ],
          "scattergeo": [
           {
            "marker": {
             "colorbar": {
              "outlinewidth": 0,
              "ticks": ""
             }
            },
            "type": "scattergeo"
           }
          ],
          "scattergl": [
           {
            "marker": {
             "colorbar": {
              "outlinewidth": 0,
              "ticks": ""
             }
            },
            "type": "scattergl"
           }
          ],
          "scattermapbox": [
           {
            "marker": {
             "colorbar": {
              "outlinewidth": 0,
              "ticks": ""
             }
            },
            "type": "scattermapbox"
           }
          ],
          "scatterpolar": [
           {
            "marker": {
             "colorbar": {
              "outlinewidth": 0,
              "ticks": ""
             }
            },
            "type": "scatterpolar"
           }
          ],
          "scatterpolargl": [
           {
            "marker": {
             "colorbar": {
              "outlinewidth": 0,
              "ticks": ""
             }
            },
            "type": "scatterpolargl"
           }
          ],
          "scatterternary": [
           {
            "marker": {
             "colorbar": {
              "outlinewidth": 0,
              "ticks": ""
             }
            },
            "type": "scatterternary"
           }
          ],
          "surface": [
           {
            "colorbar": {
             "outlinewidth": 0,
             "ticks": ""
            },
            "colorscale": [
             [
              0,
              "#0d0887"
             ],
             [
              0.1111111111111111,
              "#46039f"
             ],
             [
              0.2222222222222222,
              "#7201a8"
             ],
             [
              0.3333333333333333,
              "#9c179e"
             ],
             [
              0.4444444444444444,
              "#bd3786"
             ],
             [
              0.5555555555555556,
              "#d8576b"
             ],
             [
              0.6666666666666666,
              "#ed7953"
             ],
             [
              0.7777777777777778,
              "#fb9f3a"
             ],
             [
              0.8888888888888888,
              "#fdca26"
             ],
             [
              1,
              "#f0f921"
             ]
            ],
            "type": "surface"
           }
          ],
          "table": [
           {
            "cells": {
             "fill": {
              "color": "#EBF0F8"
             },
             "line": {
              "color": "white"
             }
            },
            "header": {
             "fill": {
              "color": "#C8D4E3"
             },
             "line": {
              "color": "white"
             }
            },
            "type": "table"
           }
          ]
         },
         "layout": {
          "annotationdefaults": {
           "arrowcolor": "#2a3f5f",
           "arrowhead": 0,
           "arrowwidth": 1
          },
          "autotypenumbers": "strict",
          "coloraxis": {
           "colorbar": {
            "outlinewidth": 0,
            "ticks": ""
           }
          },
          "colorscale": {
           "diverging": [
            [
             0,
             "#8e0152"
            ],
            [
             0.1,
             "#c51b7d"
            ],
            [
             0.2,
             "#de77ae"
            ],
            [
             0.3,
             "#f1b6da"
            ],
            [
             0.4,
             "#fde0ef"
            ],
            [
             0.5,
             "#f7f7f7"
            ],
            [
             0.6,
             "#e6f5d0"
            ],
            [
             0.7,
             "#b8e186"
            ],
            [
             0.8,
             "#7fbc41"
            ],
            [
             0.9,
             "#4d9221"
            ],
            [
             1,
             "#276419"
            ]
           ],
           "sequential": [
            [
             0,
             "#0d0887"
            ],
            [
             0.1111111111111111,
             "#46039f"
            ],
            [
             0.2222222222222222,
             "#7201a8"
            ],
            [
             0.3333333333333333,
             "#9c179e"
            ],
            [
             0.4444444444444444,
             "#bd3786"
            ],
            [
             0.5555555555555556,
             "#d8576b"
            ],
            [
             0.6666666666666666,
             "#ed7953"
            ],
            [
             0.7777777777777778,
             "#fb9f3a"
            ],
            [
             0.8888888888888888,
             "#fdca26"
            ],
            [
             1,
             "#f0f921"
            ]
           ],
           "sequentialminus": [
            [
             0,
             "#0d0887"
            ],
            [
             0.1111111111111111,
             "#46039f"
            ],
            [
             0.2222222222222222,
             "#7201a8"
            ],
            [
             0.3333333333333333,
             "#9c179e"
            ],
            [
             0.4444444444444444,
             "#bd3786"
            ],
            [
             0.5555555555555556,
             "#d8576b"
            ],
            [
             0.6666666666666666,
             "#ed7953"
            ],
            [
             0.7777777777777778,
             "#fb9f3a"
            ],
            [
             0.8888888888888888,
             "#fdca26"
            ],
            [
             1,
             "#f0f921"
            ]
           ]
          },
          "colorway": [
           "#636efa",
           "#EF553B",
           "#00cc96",
           "#ab63fa",
           "#FFA15A",
           "#19d3f3",
           "#FF6692",
           "#B6E880",
           "#FF97FF",
           "#FECB52"
          ],
          "font": {
           "color": "#2a3f5f"
          },
          "geo": {
           "bgcolor": "white",
           "lakecolor": "white",
           "landcolor": "#E5ECF6",
           "showlakes": true,
           "showland": true,
           "subunitcolor": "white"
          },
          "hoverlabel": {
           "align": "left"
          },
          "hovermode": "closest",
          "mapbox": {
           "style": "light"
          },
          "paper_bgcolor": "white",
          "plot_bgcolor": "#E5ECF6",
          "polar": {
           "angularaxis": {
            "gridcolor": "white",
            "linecolor": "white",
            "ticks": ""
           },
           "bgcolor": "#E5ECF6",
           "radialaxis": {
            "gridcolor": "white",
            "linecolor": "white",
            "ticks": ""
           }
          },
          "scene": {
           "xaxis": {
            "backgroundcolor": "#E5ECF6",
            "gridcolor": "white",
            "gridwidth": 2,
            "linecolor": "white",
            "showbackground": true,
            "ticks": "",
            "zerolinecolor": "white"
           },
           "yaxis": {
            "backgroundcolor": "#E5ECF6",
            "gridcolor": "white",
            "gridwidth": 2,
            "linecolor": "white",
            "showbackground": true,
            "ticks": "",
            "zerolinecolor": "white"
           },
           "zaxis": {
            "backgroundcolor": "#E5ECF6",
            "gridcolor": "white",
            "gridwidth": 2,
            "linecolor": "white",
            "showbackground": true,
            "ticks": "",
            "zerolinecolor": "white"
           }
          },
          "shapedefaults": {
           "line": {
            "color": "#2a3f5f"
           }
          },
          "ternary": {
           "aaxis": {
            "gridcolor": "white",
            "linecolor": "white",
            "ticks": ""
           },
           "baxis": {
            "gridcolor": "white",
            "linecolor": "white",
            "ticks": ""
           },
           "bgcolor": "#E5ECF6",
           "caxis": {
            "gridcolor": "white",
            "linecolor": "white",
            "ticks": ""
           }
          },
          "title": {
           "x": 0.05
          },
          "xaxis": {
           "automargin": true,
           "gridcolor": "white",
           "linecolor": "white",
           "ticks": "",
           "title": {
            "standoff": 15
           },
           "zerolinecolor": "white",
           "zerolinewidth": 2
          },
          "yaxis": {
           "automargin": true,
           "gridcolor": "white",
           "linecolor": "white",
           "ticks": "",
           "title": {
            "standoff": 15
           },
           "zerolinecolor": "white",
           "zerolinewidth": 2
          }
         }
        },
        "title": {
         "text": "Continental region Average price of 1GB (USD) by max or min"
        },
        "xaxis": {
         "anchor": "y",
         "domain": [
          0,
          1
         ],
         "title": {
          "text": "Continental region"
         }
        },
        "yaxis": {
         "anchor": "x",
         "domain": [
          0,
          1
         ],
         "title": {
          "text": "Price"
         }
        }
       }
      }
     },
     "metadata": {},
     "output_type": "display_data"
    }
   ],
   "source": [
    "fig=px.bar(df_inner_join_melt,x='Continental region', y='Price', color='Price type',\n",
    "           title='Continental region Average price of 1GB (USD) by max or min')\n",
    "fig.show()"
   ]
  },
  {
   "cell_type": "markdown",
   "metadata": {},
   "source": [
    "* En las regiones de south america y sub saharab africa tienen el mayor consumo de Average price of 1GB (USD)"
   ]
  },
  {
   "cell_type": "markdown",
   "metadata": {},
   "source": [
    "**Cheapest 1GB for 30 days (USD)**"
   ]
  },
  {
   "cell_type": "code",
   "execution_count": 109,
   "metadata": {},
   "outputs": [
    {
     "name": "stdout",
     "output_type": "stream",
     "text": [
      "(13, 2)\n",
      "(13, 2)\n"
     ]
    },
    {
     "data": {
      "image/png": "[encoded data removed]",
      "text/plain": [
       "<Figure size 1000x800 with 1 Axes>"
      ]
     },
     "metadata": {},
     "output_type": "display_data"
    }
   ],
   "source": [
    "df_region = df[['Continental region', 'Cheapest 1GB for 30 days (USD)','year', 'month']]\n",
    "df_region_Cheapest_max=df_region.groupby('Continental region')['Cheapest 1GB for 30 days (USD)'].max()\n",
    "df_region_Cheapest_min=df_region.groupby('Continental region')['Cheapest 1GB for 30 days (USD)'].min()\n",
    "df_region_Cheapest_max = pd.DataFrame(df_region_Cheapest_max)\n",
    "df_region_Cheapest_min = pd.DataFrame(df_region_Cheapest_min)\n",
    "\n",
    "# Asignar el resultado del método rename() de nuevo al DataFrame original\n",
    "df_region_Cheapest_max = df_region_Cheapest_max.rename(columns={'Cheapest 1GB for 30 days (USD)': 'Max price'})\n",
    "df_region_Cheapest_min = df_region_Cheapest_min.rename(columns={'Cheapest 1GB for 30 days (USD)': 'Min price'})\n",
    "\n",
    "df_region_Cheapest_max.reset_index(inplace=True)\n",
    "df_region_Cheapest_min.reset_index(inplace=True)\n",
    "\n",
    "print(df_region_Cheapest_max.shape)\n",
    "print(df_region_Cheapest_min.shape)\n",
    "\n",
    "df_inner_Cheapest_join = pd.merge(df_region_Cheapest_min, df_region_Cheapest_max, on=['Continental region'], how='inner')\n",
    "# Reorganizar el DataFrame para que tenga una columna para el precio y otra para el tipo de precio\n",
    "df_inner_Cheapest_join_melt = pd.melt(df_inner_Cheapest_join, id_vars=['Continental region'], value_vars=['Min price', 'Max price'], var_name='Price type', value_name='Price')\n",
    "\n",
    "# Graficar el gráfico de barras\n",
    "plt.figure(figsize=(10,8))\n",
    "sns.barplot(data=df_inner_Cheapest_join_melt, x='Continental region', y='Price', hue='Price type')\n",
    "plt.title('Continental region Cheapest 1GB for 30 days (USD) by max or min')\n",
    "plt.xticks(rotation='vertical')\n",
    "plt.show()"
   ]
  },
  {
   "cell_type": "markdown",
   "metadata": {},
   "source": [
    "**Most expensive 1GB (USD)**"
   ]
  },
  {
   "cell_type": "code",
   "execution_count": 111,
   "metadata": {},
   "outputs": [
    {
     "name": "stdout",
     "output_type": "stream",
     "text": [
      "(13, 2)\n",
      "(13, 2)\n"
     ]
    },
    {
     "data": {
      "image/png": "[encoded data removed]",
      "text/plain": [
       "<Figure size 1000x800 with 1 Axes>"
      ]
     },
     "metadata": {},
     "output_type": "display_data"
    }
   ],
   "source": [
    "df_region = df[['Continental region', 'Most expensive 1GB (USD)','year', 'month']]\n",
    "df_region_expensive_max=df_region.groupby('Continental region')['Most expensive 1GB (USD)'].max()\n",
    "df_region_expensive_min=df_region.groupby('Continental region')['Most expensive 1GB (USD)'].min()\n",
    "df_region_expensive_max = pd.DataFrame(df_region_expensive_max)\n",
    "df_region_expensive_min = pd.DataFrame(df_region_expensive_min)\n",
    "\n",
    "# Asignar el resultado del método rename() de nuevo al DataFrame original\n",
    "df_region_expensive_max = df_region_expensive_max.rename(columns={'Most expensive 1GB (USD)': 'Max price'})\n",
    "df_region_expensive_min = df_region_expensive_min.rename(columns={'Most expensive 1GB (USD)': 'Min price'})\n",
    "\n",
    "df_region_expensive_max.reset_index(inplace=True)\n",
    "df_region_expensive_min.reset_index(inplace=True)\n",
    "\n",
    "print(df_region_expensive_max.shape)\n",
    "print(df_region_expensive_min.shape)\n",
    "\n",
    "df_inner_expensive_join = pd.merge(df_region_expensive_min, df_region_expensive_max, on=['Continental region'], how='inner')\n",
    "# Reorganizar el DataFrame para que tenga una columna para el precio y otra para el tipo de precio\n",
    "df_inner_expensive_join_melt = pd.melt(df_inner_expensive_join, id_vars=['Continental region'], value_vars=['Min price', 'Max price'], var_name='Price type', value_name='Price')\n",
    "\n",
    "# Graficar el gráfico de barras\n",
    "plt.figure(figsize=(10,8))\n",
    "sns.barplot(data=df_inner_expensive_join_melt, x='Continental region', y='Price', hue='Price type')\n",
    "plt.title('Continental region Most expensive 1GB (USD) by max or min')\n",
    "plt.xticks(rotation='vertical')\n",
    "plt.show()"
   ]
  },
  {
   "cell_type": "code",
   "execution_count": 116,
   "metadata": {},
   "outputs": [
    {
     "data": {
      "text/html": [
       "<div>\n",
       "<style scoped>\n",
       "    .dataframe tbody tr th:only-of-type {\n",
       "        vertical-align: middle;\n",
       "    }\n",
       "\n",
       "    .dataframe tbody tr th {\n",
       "        vertical-align: top;\n",
       "    }\n",
       "\n",
       "    .dataframe thead th {\n",
       "        text-align: right;\n",
       "    }\n",
       "</style>\n",
       "<table border=\"1\" class=\"dataframe\">\n",
       "  <thead>\n",
       "    <tr style=\"text-align: right;\">\n",
       "      <th></th>\n",
       "      <th>Average price of 1GB (USD)</th>\n",
       "      <th>Cheapest 1GB for 30 days (USD)</th>\n",
       "      <th>Most expensive 1GB (USD)</th>\n",
       "    </tr>\n",
       "  </thead>\n",
       "  <tbody>\n",
       "    <tr>\n",
       "      <th>count</th>\n",
       "      <td>237.000000</td>\n",
       "      <td>237.000000</td>\n",
       "      <td>237.000000</td>\n",
       "    </tr>\n",
       "    <tr>\n",
       "      <th>mean</th>\n",
       "      <td>2.589198</td>\n",
       "      <td>1.026143</td>\n",
       "      <td>13.974304</td>\n",
       "    </tr>\n",
       "    <tr>\n",
       "      <th>std</th>\n",
       "      <td>5.179471</td>\n",
       "      <td>3.236073</td>\n",
       "      <td>19.916485</td>\n",
       "    </tr>\n",
       "    <tr>\n",
       "      <th>min</th>\n",
       "      <td>0.020000</td>\n",
       "      <td>0.001000</td>\n",
       "      <td>0.200000</td>\n",
       "    </tr>\n",
       "    <tr>\n",
       "      <th>25%</th>\n",
       "      <td>0.630000</td>\n",
       "      <td>0.160000</td>\n",
       "      <td>2.890000</td>\n",
       "    </tr>\n",
       "    <tr>\n",
       "      <th>50%</th>\n",
       "      <td>1.280000</td>\n",
       "      <td>0.370000</td>\n",
       "      <td>6.900000</td>\n",
       "    </tr>\n",
       "    <tr>\n",
       "      <th>75%</th>\n",
       "      <td>2.500000</td>\n",
       "      <td>0.900000</td>\n",
       "      <td>16.070000</td>\n",
       "    </tr>\n",
       "    <tr>\n",
       "      <th>max</th>\n",
       "      <td>43.750000</td>\n",
       "      <td>38.830000</td>\n",
       "      <td>138.190000</td>\n",
       "    </tr>\n",
       "  </tbody>\n",
       "</table>\n",
       "</div>"
      ],
      "text/plain": [
       "       Average price of 1GB (USD)  Cheapest 1GB for 30 days (USD)  \\\n",
       "count                  237.000000                      237.000000   \n",
       "mean                     2.589198                        1.026143   \n",
       "std                      5.179471                        3.236073   \n",
       "min                      0.020000                        0.001000   \n",
       "25%                      0.630000                        0.160000   \n",
       "50%                      1.280000                        0.370000   \n",
       "75%                      2.500000                        0.900000   \n",
       "max                     43.750000                       38.830000   \n",
       "\n",
       "       Most expensive 1GB (USD)  \n",
       "count                237.000000  \n",
       "mean                  13.974304  \n",
       "std                   19.916485  \n",
       "min                    0.200000  \n",
       "25%                    2.890000  \n",
       "50%                    6.900000  \n",
       "75%                   16.070000  \n",
       "max                  138.190000  "
      ]
     },
     "execution_count": 116,
     "metadata": {},
     "output_type": "execute_result"
    }
   ],
   "source": [
    "df_region_usd=df[['Average price of 1GB (USD)','Cheapest 1GB for 30 days (USD)','Most expensive 1GB (USD)']]\n",
    "df_region_usd.describe()"
   ]
  },
  {
   "cell_type": "code",
   "execution_count": 120,
   "metadata": {},
   "outputs": [
    {
     "data": {
      "image/png": "[encoded data removed]",
      "text/plain": [
       "<Figure size 1000x800 with 2 Axes>"
      ]
     },
     "metadata": {},
     "output_type": "display_data"
    }
   ],
   "source": [
    "plt.figure(figsize=(10,8))\n",
    "sns.heatmap(df_region_usd.corr(),annot=True)\n",
    "plt.title('Mapa de Calor',fontsize=12,weight='bold')\n",
    "plt.show()"
   ]
  }
 ],
 "metadata": {
  "kernelspec": {
   "display_name": "Python 3",
   "language": "python",
   "name": "python3"
  },
  "language_info": {
   "codemirror_mode": {
    "name": "ipython",
    "version": 3
   },
   "file_extension": ".py",
   "mimetype": "text/x-python",
   "name": "python",
   "nbconvert_exporter": "python",
   "pygments_lexer": "ipython3",
   "version": "3.12.1"
  }
 },
 "nbformat": 4,
 "nbformat_minor": 2
}
